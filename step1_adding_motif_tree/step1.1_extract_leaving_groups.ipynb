{
 "cells": [
  {
   "cell_type": "markdown",
   "metadata": {},
   "source": [
    "## 0. 设置参数"
   ]
  },
  {
   "cell_type": "code",
   "execution_count": 1,
   "metadata": {},
   "outputs": [
    {
     "name": "stderr",
     "output_type": "stream",
     "text": [
      "100%|██████████| 50016/50016 [00:03<00:00, 13221.98it/s]\n"
     ]
    }
   ],
   "source": [
    "import pandas as pd\n",
    "from rdkit import Chem\n",
    "from tqdm import tqdm\n",
    "import numpy as np\n",
    "\n",
    "\n",
    "\n",
    "sv_path = \"/gaozhangyang/experiments/MotifRetro/data/uspto_50k/\"\n",
    "train = pd.read_csv(\"/gaozhangyang/experiments/MotifRetro/data/uspto_50k/raw_train.csv\")\n",
    "valid = pd.read_csv(\"/gaozhangyang/experiments/MotifRetro/data/uspto_50k/raw_val.csv\")\n",
    "test = pd.read_csv(\"/gaozhangyang/experiments/MotifRetro/data/uspto_50k/raw_test.csv\")\n",
    "data = pd.concat([train,valid, test], axis=0)\n",
    "tasks = []\n",
    "for idx in tqdm(range(len(data))):\n",
    "    target, source = data.iloc[idx][\"reactants>reagents>production\"].split(\">>\")\n",
    "    tasks.append([target, source])\n",
    "    \n",
    "    \n",
    "    \n",
    "# sv_path = \"/gaozhangyang/experiments/MotifRetro/data/uspto_hard/\"\n",
    "# data = pd.read_csv(\"/gaozhangyang/experiments/MotifRetro/data/uspto_hard/USPTOHard.csv\")\n",
    "# tasks = []\n",
    "# for idx in tqdm(range(len(data))):\n",
    "#     target, source = data.loc[idx,\"substrates\"], data.loc[idx,\"product\"]\n",
    "#     tasks.append([target, source])\n",
    "\n",
    "\n",
    "# sv_path = \"/gaozhangyang/experiments/MotifRetro/data/uspto_full/\"\n",
    "# data = pd.read_csv(\"/gaozhangyang/experiments/MotifRetro/data/uspto_full/USPTOFull.csv\")\n",
    "# tasks = []\n",
    "# for idx in tqdm(range(len(data))):\n",
    "#     target, source = data.loc[idx,\"rxn_smiles\"].split(\">>\")\n",
    "#     tasks.append([target, source])\n",
    "    "
   ]
  },
  {
   "cell_type": "markdown",
   "metadata": {},
   "source": [
    "## 1.提取fragment"
   ]
  },
  {
   "cell_type": "code",
   "execution_count": 4,
   "metadata": {},
   "outputs": [],
   "source": [
    "import sys; sys.path.append(\"/gaozhangyang/experiments/MotifRetro\")\n",
    "import pandas as pd\n",
    "from rdkit import Chem\n",
    "import json\n",
    "from copy import copy\n",
    "from src.utils.feat_utils import atom_to_edit_tuple, get_bond_tuple, fix_incomplete_mappings, reac_to_canonical, renumber_atoms_for_mapping, mark_reactants\n",
    "from rdkit.Chem import Draw\n",
    "from src.utils.chem_utils import remove_am\n",
    "from src.feat.reaction_actions import StopAction, AddMotifAction\n",
    "from tqdm import tqdm\n",
    "import numpy as np\n",
    "from src.feat.featurize_gzy_psvae import ReactionSampleGenerator as ReactionSampleGenerator_gzy\n",
    "\n",
    "from joblib import Parallel, delayed, cpu_count\n",
    "from tqdm import tqdm\n",
    "\n",
    "def pmap_multi(pickleable_fn, data, n_jobs=None, verbose=1, desc=None, **kwargs):\n",
    "    \"\"\"\n",
    "\n",
    "    Parallel map using joblib.\n",
    "\n",
    "    Parameters\n",
    "    ----------\n",
    "    pickleable_fn : callable\n",
    "        Function to map over data.\n",
    "    data : iterable\n",
    "        Data over which we want to parallelize the function call.\n",
    "    n_jobs : int, optional\n",
    "        The maximum number of concurrently running jobs. By default, it is one less than\n",
    "        the number of CPUs.\n",
    "    verbose: int, optional\n",
    "        The verbosity level. If nonzero, the function prints the progress messages.\n",
    "        The frequency of the messages increases with the verbosity level. If above 10,\n",
    "        it reports all iterations. If above 50, it sends the output to stdout.\n",
    "    kwargs\n",
    "        Additional arguments for :attr:`pickleable_fn`.\n",
    "\n",
    "    Returns\n",
    "    -------\n",
    "    list\n",
    "        The i-th element of the list corresponds to the output of applying\n",
    "        :attr:`pickleable_fn` to :attr:`data[i]`.\n",
    "    \"\"\"\n",
    "    if n_jobs is None:\n",
    "        n_jobs = cpu_count() - 1\n",
    "\n",
    "    results = Parallel(n_jobs=n_jobs, verbose=verbose, timeout=None)(\n",
    "    delayed(pickleable_fn)(*d, **kwargs) for i, d in tqdm(enumerate(data),desc=desc)\n",
    "    )\n",
    "\n",
    "    return results\n",
    "\n",
    "# utils\n",
    "action_vocab = json.load(open(\"/gaozhangyang/experiments/MotifRetro/dataset_code/action_vocab.json\", 'r'))\n",
    "\n",
    "props = action_vocab['prop2oh']\n",
    "prop2oh = {'atom': {}, 'bond': {}}\n",
    "\n",
    "for type_key in prop2oh.keys():\n",
    "    oh_dict = props[type_key]\n",
    "    for key, values in oh_dict.items():\n",
    "        converted_values = {}\n",
    "        for prop_val, val_oh in values.items():\n",
    "            try:\n",
    "                prop_val = int(prop_val)\n",
    "            except ValueError:\n",
    "                pass\n",
    "            converted_values[prop_val] = val_oh\n",
    "        prop2oh[type_key][key] = converted_values\n",
    "\n",
    "action_vocab['prop2oh'] = prop2oh\n",
    "\n",
    "\n",
    "\n",
    "# visualization\n",
    "from rdkit import Chem\n",
    "from rdkit.Chem.Draw import rdMolDraw2D, MolsToGridImage\n",
    "\n",
    "drawOptions = rdMolDraw2D.MolDrawOptions()\n",
    "drawOptions.prepareMolsBeforeDrawing = False\n",
    "drawOptions.bondLineWidth = 4\n",
    "drawOptions.minFontSize = 12\n",
    "\n",
    "\n",
    "def prepare_mol(mol, new_am):\n",
    "    highlight_idx = []\n",
    "    for i, atom in enumerate(mol.GetAtoms()):\n",
    "        am = atom.GetAtomMapNum()\n",
    "        if am in new_am:\n",
    "            highlight_idx.append(i)\n",
    "            \n",
    "    try:\n",
    "        mol_draw = rdMolDraw2D.PrepareMolForDrawing(mol)\n",
    "    except Chem.KekulizeException:\n",
    "        mol_draw = rdMolDraw2D.PrepareMolForDrawing(mol, kekulize=False)\n",
    "        Chem.SanitizeMol(mol_draw, Chem.SANITIZE_ALL ^ Chem.SANITIZE_KEKULIZE)\n",
    "    \n",
    "    \n",
    "    return mol_draw, highlight_idx\n",
    "\n",
    "def plot_states(states, target_mol, source_mol):\n",
    "    target_am = set([atom.GetAtomMapNum() for atom in  target_mol.GetAtoms()])\n",
    "    source_am = set([atom.GetAtomMapNum() for atom in  source_mol.GetAtoms()])\n",
    "    new_am = list(target_am - source_am)\n",
    "\n",
    "    mol_list = []\n",
    "    highlightAtomLists = []\n",
    "    for one in states:\n",
    "        mol, highlight = prepare_mol(one, new_am)\n",
    "        mol_list.append(mol)\n",
    "        highlightAtomLists.append(highlight)\n",
    "\n",
    "    return MolsToGridImage(mol_list, molsPerRow=5,  subImgSize=(500, 500), drawOptions=drawOptions, highlightBondLists = highlightAtomLists)\n",
    "\n",
    "\n",
    "from src.utils.chem_utils import MultiElement\n",
    "from src.utils.retro_utils import preprocess_mols, get_synthons, match_synthons_reactants, get_frag_mol\n",
    "\n",
    "\n",
    "\n",
    "\n",
    "def handle_per_task(target, source):\n",
    "    try:\n",
    "        target_mol, source_mol = preprocess_mols(target, source)\n",
    "\n",
    "        motifretro_sample_generator = ReactionSampleGenerator_gzy(Chem.rdchem.RWMol(source_mol), target_mol, keep_actions_list=None, action_vocab=action_vocab, use_motif_action=True, only_get_synthon=True)\n",
    "\n",
    "        synthons = get_synthons(motifretro_sample_generator)\n",
    "\n",
    "        synthons = MultiElement(synthons).mols\n",
    "        reactants = MultiElement(target_mol).mols\n",
    "        reactants = match_synthons_reactants(synthons, reactants)\n",
    "        frag_mol_list = []\n",
    "        for k in range(len(reactants)):\n",
    "            frag_mol = get_frag_mol(synthons[k], reactants[k])\n",
    "            frag_mol_list.append((frag_mol, source_mol, target_mol))\n",
    "            # frag_smiles_list.append(Chem.MolToSmiles(remove_am(frag_mol)))\n",
    "        return frag_mol_list\n",
    "    except:\n",
    "        print(source)\n",
    "        print(target)\n",
    "        print()\n",
    "        return None\n",
    "    \n"
   ]
  },
  {
   "cell_type": "code",
   "execution_count": 5,
   "metadata": {},
   "outputs": [
    {
     "name": "stderr",
     "output_type": "stream",
     "text": [
      "[Parallel(n_jobs=126)]: Using backend LokyBackend with 126 concurrent workers.\n",
      "315it [00:19, 55.86it/s][Parallel(n_jobs=126)]: Done 198 tasks      | elapsed:    6.8s\n",
      "[Parallel(n_jobs=126)]: Done 548 tasks      | elapsed:    8.8s\n",
      "[Parallel(n_jobs=126)]: Done 998 tasks      | elapsed:   10.7s\n",
      "[Parallel(n_jobs=126)]: Done 1548 tasks      | elapsed:   12.6s\n",
      "[Parallel(n_jobs=126)]: Done 2198 tasks      | elapsed:   15.0s\n"
     ]
    },
    {
     "name": "stdout",
     "output_type": "stream",
     "text": [
      "[C:1]([CH2:2][CH:3]=[CH2:4])([C:5](=[O:6])[O:7][CH2:8][CH3:9])([CH:10]([F:11])[F:12])[NH2:13]\n",
      "O=C([C:1]([CH2:2][CH:3]=[CH2:4])([C:5](=[O:6])[O:7][CH2:8][CH3:9])[CH:10]([F:11])[F:12])[NH2:13]\n",
      "\n"
     ]
    },
    {
     "name": "stderr",
     "output_type": "stream",
     "text": [
      "[Parallel(n_jobs=126)]: Done 2948 tasks      | elapsed:   17.6s\n"
     ]
    },
    {
     "name": "stdout",
     "output_type": "stream",
     "text": [
      "[CH3:1][C:2](=[O:3])[c:8]1[cH:7][cH:6][c:5]([OH:4])[cH:10][cH:9]1\n",
      "[CH3:1][C:2](=[O:3])[O:4][c:5]1[cH:6][cH:7][cH:8][cH:9][cH:10]1\n",
      "\n"
     ]
    },
    {
     "name": "stderr",
     "output_type": "stream",
     "text": [
      "[Parallel(n_jobs=126)]: Done 3798 tasks      | elapsed:   20.3s\n",
      "[Parallel(n_jobs=126)]: Done 4748 tasks      | elapsed:   22.9s\n",
      "[Parallel(n_jobs=126)]: Done 5798 tasks      | elapsed:   26.0s\n",
      "[Parallel(n_jobs=126)]: Done 6948 tasks      | elapsed:   27.7s\n"
     ]
    },
    {
     "name": "stdout",
     "output_type": "stream",
     "text": [
      "[O:1]=[C:2]([O:3][CH2:4][c:5]1[cH:6][cH:7][cH:8][cH:9][cH:10]1)[N:11]1[CH2:12][CH2:13][C:14]2([CH2:15][CH2:16]1)[CH2:17][C:18](=[O:20])[NH:19][c:21]1[cH:22][cH:23][cH:24][cH:25][c:26]12\n",
      "[O:1]=[C:2]([O:3][CH2:4][c:5]1[cH:6][cH:7][cH:8][cH:9][cH:10]1)[N:11]1[CH2:12][CH2:13][C:14]2([CH2:15][CH2:16]1)[CH2:17][C:18](=[N:19][OH:20])[c:21]1[cH:22][cH:23][cH:24][cH:25][c:26]12\n",
      "\n"
     ]
    },
    {
     "name": "stderr",
     "output_type": "stream",
     "text": [
      "[Parallel(n_jobs=126)]: Done 8198 tasks      | elapsed:   29.8s\n"
     ]
    },
    {
     "name": "stdout",
     "output_type": "stream",
     "text": [
      "[O:1]=[C:3]1[NH:2][CH2:4][CH2:5][c:6]2[o:7][c:8]3[cH:9][cH:10][cH:11][cH:12][c:13]3[c:14]21\n",
      "[OH:1][N:2]=[C:3]1[CH2:4][CH2:5][c:6]2[o:7][c:8]3[cH:9][cH:10][cH:11][cH:12][c:13]3[c:14]21\n",
      "\n"
     ]
    },
    {
     "name": "stderr",
     "output_type": "stream",
     "text": [
      "[Parallel(n_jobs=126)]: Done 9548 tasks      | elapsed:   32.3s\n",
      "[Parallel(n_jobs=126)]: Done 10998 tasks      | elapsed:   35.7s\n"
     ]
    },
    {
     "name": "stdout",
     "output_type": "stream",
     "text": [
      "[CH3:1][O:2][c:3]1[cH:4][cH:5][c:6]2[c:7]([cH:8]1)[C:9](=[O:11])[NH:10][CH2:12][CH2:13]2\n",
      "[CH3:1][O:2][c:3]1[cH:4][cH:5][c:6]2[c:7]([cH:8]1)[C:9](=[N:10][OH:11])[CH2:12][CH2:13]2\n",
      "\n"
     ]
    },
    {
     "name": "stderr",
     "output_type": "stream",
     "text": [
      "[Parallel(n_jobs=126)]: Done 12548 tasks      | elapsed:   39.5s\n"
     ]
    },
    {
     "name": "stdout",
     "output_type": "stream",
     "text": [
      "[C@H:1]1([CH3:3])[C@H:2]([NH:15][CH:16]2[CH2:17][CH2:18][CH2:19][CH2:20][CH2:21]2)[CH2:14][CH2:13][N:5]([C:6](=[O:7])[O:8][C:9]([CH3:10])([CH3:11])[CH3:12])[CH2:4]1\n",
      "O=[C:1]1[CH:2]([CH3:3])[CH2:4][N:5]([C:6](=[O:7])[O:8][C:9]([CH3:10])([CH3:11])[CH3:12])[CH2:13][CH2:14]1.[NH2:15][CH:16]1[CH2:17][CH2:18][CH2:19][CH2:20][CH2:21]1\n",
      "\n"
     ]
    },
    {
     "name": "stderr",
     "output_type": "stream",
     "text": []
    },
    {
     "name": "stdout",
     "output_type": "stream",
     "text": [
      "[NH2:1][C@H:17]1[CH2:33][CH2:4][N:5]([C:6](=[O:7])[c:8]2[cH:9][cH:10][c:11]([CH2:12][N:13]3[CH2:14][CH2:15][N:16]([CH:2]4[CH2:3][CH2:19][N:20]([c:21]5[n:22][cH:23][c:24]([C:25]([F:26])([F:27])[F:28])[cH:29][c:30]5[F:31])[CH2:32][CH2:18]4)[C:34]3=[O:35])[cH:36][cH:37]2)[CH2:38]1\n",
      "CC(C)(C)OC(=O)[NH:1][C@H:2]1[CH2:3][CH2:4][N:5]([C:6](=[O:7])[c:8]2[cH:9][cH:10][c:11]([CH2:12][N:13]3[CH2:14][CH2:15][N:16]([CH:17]4[CH2:18][CH2:19][N:20]([c:21]5[n:22][cH:23][c:24]([C:25]([F:26])([F:27])[F:28])[cH:29][c:30]5[F:31])[CH2:32][CH2:33]4)[C:34]3=[O:35])[cH:36][cH:37]2)[CH2:38]1\n",
      "\n"
     ]
    },
    {
     "name": "stderr",
     "output_type": "stream",
     "text": []
    },
    {
     "name": "stdout",
     "output_type": "stream",
     "text": [
      "[C@@H:1]1([O:3][CH3:4])[CH2:8][O:6][CH2:7][CH2:29][C@@H:30]1[NH:31][C@@H:16]1[CH2:5][CH2:28][C@:11]([CH2:10][CH3:9])([C:12](=[O:13])[N:20]2[C@@H:2]3[CH2:15][N:14]([C:21](=[O:22])[O:23][C:24]([CH3:25])([CH3:26])[CH3:27])[C@@H:18]([CH2:17]3)[CH2:19]2)[CH2:32]1\n",
      "O=[C:1]1[CH:2]([O:3][CH3:4])[CH2:5][O:6][CH2:7][CH2:8]1.[CH3:9][CH2:10][C@:11]1([C:12](=[O:13])[N:14]2[CH2:15][C@@H:16]3[CH2:17][C@H:18]2[CH2:19][N:20]3[C:21](=[O:22])[O:23][C:24]([CH3:25])([CH3:26])[CH3:27])[CH2:28][CH2:29][C@@H:30]([NH2:31])[CH2:32]1\n",
      "\n"
     ]
    },
    {
     "name": "stderr",
     "output_type": "stream",
     "text": [
      "[Parallel(n_jobs=126)]: Done 14198 tasks      | elapsed:   43.6s\n"
     ]
    },
    {
     "name": "stdout",
     "output_type": "stream",
     "text": [
      "[N:1]#[C:2][c:3]1[cH:4][n:5](-[c:6]2[c:7]([Cl:8])[cH:9][c:10]([C:11]([F:12])([F:13])[F:14])[cH:15][c:16]2[Cl:17])[n:18][c:19]1[N+:20](=[O:21])[O-:22]\n",
      "[N:1]#[C:2][c:3]1[cH:4][n:5](-[c:6]2[c:7]([Cl:8])[cH:9][c:10]([C:11]([F:12])([F:13])[F:14])[cH:15][c:16]2[Cl:17])[n:18][c:19]1[NH2:20].[OH:21][OH:22]\n",
      "\n"
     ]
    },
    {
     "name": "stderr",
     "output_type": "stream",
     "text": [
      "[Parallel(n_jobs=126)]: Done 15948 tasks      | elapsed:   49.2s\n"
     ]
    },
    {
     "name": "stdout",
     "output_type": "stream",
     "text": [
      "[c:1]1([NH2:33])[n:2][cH:3][cH:4][c:5]([O:6][c:7]2[cH:8][cH:9][c:10]([NH:11][C:12]([c:13]3[c:14]([CH3:15])[n:16]([CH3:17])[n:18](-[c:19]4[cH:20][cH:21][cH:22][cH:23][cH:24]4)[c:25]3=[O:26])=[O:27])[c:28]([F:29])[cH:30]2)[c:31]1[Cl:32]\n",
      "O=C([c:1]1[n:2][cH:3][cH:4][c:5]([O:6][c:7]2[cH:8][cH:9][c:10]([NH:11][C:12]([c:13]3[c:14]([CH3:15])[n:16]([CH3:17])[n:18](-[c:19]4[cH:20][cH:21][cH:22][cH:23][cH:24]4)[c:25]3=[O:26])=[O:27])[c:28]([F:29])[cH:30]2)[c:31]1[Cl:32])[NH2:33]\n",
      "\n",
      "[C:1](=[O:2])([c:3]1[cH:4][cH:5][cH:6][cH:7][cH:8]1)[NH:18][C@@H:14]1[CH2:12][C@@H:13]([CH3:16])[CH2:19][CH2:11][C@@H:17]1[CH:10]([CH3:9])[CH3:15]\n",
      "Cl[C:1](=[O:2])[c:3]1[cH:4][cH:5][cH:6][cH:7][cH:8]1.[CH3:9][CH:10]1[CH2:11][CH2:12][CH:13]([CH:14]([CH3:15])[CH3:16])[CH:17]([NH2:18])[CH2:19]1\n",
      "\n"
     ]
    },
    {
     "name": "stderr",
     "output_type": "stream",
     "text": [
      "[Parallel(n_jobs=126)]: Done 17798 tasks      | elapsed:   52.7s\n"
     ]
    },
    {
     "name": "stdout",
     "output_type": "stream",
     "text": [
      "[CH3:1][CH2:2][C:3](=[O:4])[NH:5][c:6]1[c:7]([O:8][CH3:9])[cH:10][cH:11][c:12]([C:15](=[O:16])[CH2:17][CH3:18])[c:13]1[OH:14]\n",
      "[CH3:1][CH2:2][C:3](=[O:4])[NH:5][c:6]1[c:7]([O:8][CH3:9])[cH:10][cH:11][cH:12][c:13]1[O:14][C:15](=[O:16])[CH2:17][CH3:18]\n",
      "\n"
     ]
    },
    {
     "name": "stderr",
     "output_type": "stream",
     "text": [
      "[Parallel(n_jobs=126)]: Done 19748 tasks      | elapsed:   55.9s\n",
      "[Parallel(n_jobs=126)]: Done 21798 tasks      | elapsed:   59.4s\n"
     ]
    },
    {
     "name": "stdout",
     "output_type": "stream",
     "text": [
      "[O:1]=[C:3]1[NH:2][CH2:4][CH2:5][S:6][c:7]2[s:8][cH:9][cH:10][c:11]21\n",
      "[OH:1][N:2]=[C:3]1[CH2:4][CH2:5][S:6][c:7]2[s:8][cH:9][cH:10][c:11]21\n",
      "\n"
     ]
    },
    {
     "name": "stderr",
     "output_type": "stream",
     "text": []
    },
    {
     "name": "stdout",
     "output_type": "stream",
     "text": [
      "[C@H:1]1([CH3:3])[C@@H:2]([N:18]2[CH2:17][CH:16]=[C:15]([c:14]3[c:8]([CH3:7])[cH:9][c:10]([Br:11])[cH:12][n:13]3)[CH2:20][CH2:19]2)[CH2:6][CH2:5][O:4]1\n",
      "O=[C:1]1[CH:2]([CH3:3])[O:4][CH2:5][CH2:6]1.[CH3:7][c:8]1[cH:9][c:10]([Br:11])[cH:12][n:13][c:14]1[C:15]1=[CH:16][CH2:17][NH:18][CH2:19][CH2:20]1\n",
      "\n"
     ]
    },
    {
     "name": "stderr",
     "output_type": "stream",
     "text": [
      "[Parallel(n_jobs=126)]: Done 23948 tasks      | elapsed:  1.1min\n"
     ]
    },
    {
     "name": "stdout",
     "output_type": "stream",
     "text": [
      "[C@@H:1]12[C@:3]3([OH:12])[CH2:4][CH2:15][C@H:10]([NH:25][CH3:24])[C@H:2]4[C@:11]3([CH2:13][CH2:5][N:6]1[CH2:7][CH:8]=[CH2:9])[c:17]1[c:16]([cH:22][cH:21][c:19]([OH:20])[c:18]1[O:23]4)[CH2:14]2\n",
      "O=[C:1]1[C@H:2]2[C@@:3]34[CH2:4][CH2:5][N:6]([CH2:7][CH:8]=[CH2:9])[C@@H:10]([C@:11]3([OH:12])[CH2:13][CH2:14]1)[CH2:15][c:16]1[c:17]4[c:18]([c:19]([OH:20])[cH:21][cH:22]1)[O:23]2.[CH3:24][NH2:25]\n",
      "\n"
     ]
    },
    {
     "name": "stderr",
     "output_type": "stream",
     "text": [
      "[Parallel(n_jobs=126)]: Done 26198 tasks      | elapsed:  1.1min\n"
     ]
    },
    {
     "name": "stdout",
     "output_type": "stream",
     "text": [
      "[O:1]=[C:3]1[NH:2][CH:14]2[CH2:13][CH:12]([c:11]3[c:4]1[cH:5][c:6]([Br:7])[c:8]([F:9])[cH:10]3)[CH2:15]2\n",
      "[OH:1][N:2]=[C:3]1[c:4]2[cH:5][c:6]([Br:7])[c:8]([F:9])[cH:10][c:11]2[CH:12]2[CH2:13][CH:14]1[CH2:15]2\n",
      "\n"
     ]
    },
    {
     "name": "stderr",
     "output_type": "stream",
     "text": []
    },
    {
     "name": "stdout",
     "output_type": "stream",
     "text": [
      "[c:1]1([NH2:13])[c:2]([C:3]([F:4])([F:5])[F:6])[cH:7][c:8]([CH3:9])[n:10][c:11]1[Cl:12]\n",
      "O=C([c:1]1[c:2]([C:3]([F:4])([F:5])[F:6])[cH:7][c:8]([CH3:9])[n:10][c:11]1[Cl:12])[NH2:13]\n",
      "\n"
     ]
    },
    {
     "name": "stderr",
     "output_type": "stream",
     "text": [
      "[Parallel(n_jobs=126)]: Done 28548 tasks      | elapsed:  1.3min\n"
     ]
    },
    {
     "name": "stdout",
     "output_type": "stream",
     "text": [
      "[NH2:1][c:2]1[cH:3][c:4]([O:5][c:6]2[cH:7][cH:8][c:9]([N:10]([CH2:11][c:12]3[cH:13][cH:14][c:15]([F:16])[cH:17][cH:18]3)[C:19](=[O:20])[C:21]3([C:22]([NH2:23])=[O:24])[CH2:25][CH2:26]3)[cH:27][c:28]2[F:29])[cH:30][cH:31][n:32]1\n",
      "O=C([NH2:1])[c:2]1[cH:3][c:4]([O:5][c:6]2[cH:7][cH:8][c:9]([N:10]([CH2:11][c:12]3[cH:13][cH:14][c:15]([F:16])[cH:17][cH:18]3)[C:19](=[O:20])[C:21]3([C:22]([NH2:23])=[O:24])[CH2:25][CH2:26]3)[cH:27][c:28]2[F:29])[cH:30][cH:31][n:32]1\n",
      "\n"
     ]
    },
    {
     "name": "stderr",
     "output_type": "stream",
     "text": []
    },
    {
     "name": "stdout",
     "output_type": "stream",
     "text": [
      "[C@@H:1]1([c:14]2[cH:15][cH:16][cH:17][cH:18][cH:19]2)[CH2:12][c:11]2[c:6]([cH:7][cH:8][cH:9][cH:10]2)[NH:5][C:3](=[O:4])[C@H:13]1[NH2:2]\n",
      "COC(=O)[C:1]1([NH2:2])[C:3](=[O:4])[NH:5][c:6]2[cH:7][cH:8][cH:9][cH:10][c:11]2[CH2:12][CH:13]1[c:14]1[cH:15][cH:16][cH:17][cH:18][cH:19]1\n",
      "\n"
     ]
    },
    {
     "name": "stderr",
     "output_type": "stream",
     "text": [
      "[Parallel(n_jobs=126)]: Done 30998 tasks      | elapsed:  1.4min\n"
     ]
    },
    {
     "name": "stdout",
     "output_type": "stream",
     "text": [
      "[CH3:1][C:2]([CH3:3])([CH3:4])[O:5][C:6](=[O:7])[N:8]1[CH2:9][CH2:10][C@H:12]([C@H:11]([OH:13])[CH:15]2[CH2:16][CH2:17]2)[CH2:14]1\n",
      "[CH3:1][C:2]([CH3:3])([CH3:4])[O:5][C:6](=[O:7])[N:8]1[CH2:9][CH2:10][C@H:11]([CH:12]=[O:13])[CH2:14]1.[Mg+][CH:15]1[CH2:16][CH2:17]1\n",
      "\n"
     ]
    },
    {
     "name": "stderr",
     "output_type": "stream",
     "text": [
      "[Parallel(n_jobs=126)]: Done 33548 tasks      | elapsed:  1.4min\n"
     ]
    },
    {
     "name": "stdout",
     "output_type": "stream",
     "text": [
      "[NH2:1][c:2]1[cH:3][c:4]([O:5][c:6]2[cH:7][cH:8][c:9]([NH:10][C:11](=[O:12])[C:13]3([C:14](=[O:15])[NH:16][c:17]4[cH:18][cH:19][c:20]([F:21])[cH:22][cH:23]4)[CH2:24][CH2:25]3)[c:26]([F:27])[cH:28]2)[cH:29][cH:30][n:31]1\n",
      "O=C([NH2:1])[c:2]1[cH:3][c:4]([O:5][c:6]2[cH:7][cH:8][c:9]([NH:10][C:11](=[O:12])[C:13]3([C:14](=[O:15])[NH:16][c:17]4[cH:18][cH:19][c:20]([F:21])[cH:22][cH:23]4)[CH2:24][CH2:25]3)[c:26]([F:27])[cH:28]2)[cH:29][cH:30][n:31]1\n",
      "\n",
      "[CH2:1]([CH:2]([CH:3]1[O:4][CH2:5][CH:6]([CH2:7][CH2:8][CH2:9][CH2:10][OH:11])[O:12]1)[Cl:14])[Cl:13]\n",
      "[CH2:1]=[CH:2][CH:3]1[O:4][CH2:5][CH:6]([CH2:7][CH2:8][CH2:9][CH2:10][OH:11])[O:12]1.[Cl:13][Cl:14]\n",
      "\n"
     ]
    },
    {
     "name": "stderr",
     "output_type": "stream",
     "text": []
    },
    {
     "name": "stdout",
     "output_type": "stream",
     "text": [
      "[c:1]1([NH2:33])[n:2][cH:3][cH:4][c:5]([O:6][c:7]2[cH:8][cH:9][c:10]([NH:11][C:12]([c:13]3[c:14]([CH3:15])[n:16]([CH3:17])[n:18](-[c:19]4[cH:20][cH:21][cH:22][cH:23][cH:24]4)[c:25]3=[O:26])=[O:27])[cH:28][c:29]2[F:30])[c:31]1[Cl:32]\n",
      "O=C([c:1]1[n:2][cH:3][cH:4][c:5]([O:6][c:7]2[cH:8][cH:9][c:10]([NH:11][C:12]([c:13]3[c:14]([CH3:15])[n:16]([CH3:17])[n:18](-[c:19]4[cH:20][cH:21][cH:22][cH:23][cH:24]4)[c:25]3=[O:26])=[O:27])[cH:28][c:29]2[F:30])[c:31]1[Cl:32])[NH2:33]\n",
      "\n"
     ]
    },
    {
     "name": "stderr",
     "output_type": "stream",
     "text": [
      "[Parallel(n_jobs=126)]: Done 36198 tasks      | elapsed:  1.5min\n"
     ]
    },
    {
     "name": "stdout",
     "output_type": "stream",
     "text": [
      "[O:1]=[C:2]([c:5]1[c:4]([OH:3])[cH:9][cH:8][cH:7][cH:6]1)[O:10][c:11]1[cH:12][cH:13][cH:14][cH:15][cH:16]1\n",
      "[O:1]=[C:2]([O:3][c:4]1[cH:5][cH:6][cH:7][cH:8][cH:9]1)[O:10][c:11]1[cH:12][cH:13][cH:14][cH:15][cH:16]1\n",
      "\n"
     ]
    },
    {
     "name": "stderr",
     "output_type": "stream",
     "text": []
    },
    {
     "name": "stdout",
     "output_type": "stream",
     "text": [
      "[c:1]1([NH2:32])[n:2][cH:3][cH:4][c:5]([O:6][c:7]2[cH:8][cH:9][c:10]([NH:11][C:12]([c:13]3[c:14]([CH3:15])[n:16]([CH3:17])[n:18](-[c:19]4[cH:20][cH:21][cH:22][cH:23][cH:24]4)[c:25]3=[O:26])=[O:27])[cH:28][c:29]2[Cl:30])[cH:31]1\n",
      "O=C([c:1]1[n:2][cH:3][cH:4][c:5]([O:6][c:7]2[cH:8][cH:9][c:10]([NH:11][C:12]([c:13]3[c:14]([CH3:15])[n:16]([CH3:17])[n:18](-[c:19]4[cH:20][cH:21][cH:22][cH:23][cH:24]4)[c:25]3=[O:26])=[O:27])[cH:28][c:29]2[Cl:30])[cH:31]1)[NH2:32]\n",
      "\n"
     ]
    },
    {
     "name": "stderr",
     "output_type": "stream",
     "text": [
      "[Parallel(n_jobs=126)]: Done 38948 tasks      | elapsed:  1.7min\n"
     ]
    },
    {
     "name": "stdout",
     "output_type": "stream",
     "text": [
      "[C:1]1([CH3:2])([NH2:15])[CH2:3][CH2:4][N:5]([C:6]([O:7][C:8]([CH3:9])([CH3:10])[CH3:11])=[O:12])[CH2:13][CH2:14]1\n",
      "O=C([C:1]1([CH3:2])[CH2:3][CH2:4][N:5]([C:6]([O:7][C:8]([CH3:9])([CH3:10])[CH3:11])=[O:12])[CH2:13][CH2:14]1)[NH2:15]\n",
      "\n"
     ]
    },
    {
     "name": "stderr",
     "output_type": "stream",
     "text": []
    },
    {
     "name": "stdout",
     "output_type": "stream",
     "text": [
      "[C:1]1(=[O:2])[CH2:3][CH2:4][C:5]([CH2:6][NH:7][C:8](=[O:9])[C:10]1\n",
      "C1C[O:2][C:1]2(O1)[CH2:3][CH2:4][C:5]([CH2:6][NH:7][C:8](=[O:9])[C:10]([F:11])([F:12])[F:13])([c:14]1[cH:15][cH:16][cH:17][c:18]([Cl:19])[cH:20]1)[CH2:21][CH2:22]2\n",
      "\n"
     ]
    },
    {
     "name": "stderr",
     "output_type": "stream",
     "text": [
      "[Parallel(n_jobs=126)]: Done 41798 tasks      | elapsed:  1.8min\n"
     ]
    },
    {
     "name": "stdout",
     "output_type": "stream",
     "text": [
      "[C@H:1]12[CH2:2][CH2:24][C@@H:23]([N:6]3[CH2:5][CH2:37][CH2:38][CH2:34]3)[CH2:41][N:40]1[CH2:39][C@@H:4]([CH2:3][c:25]1[cH:26][nH:27][c:28]3[cH:29][cH:30][cH:31][cH:32][c:33]13)[N:35]([C:7](=[O:8])[c:9]1[cH:10][c:11]([C:12]([F:13])([F:14])[F:15])[cH:16][c:17]([C:18]([F:19])([F:20])[F:21])[cH:22]1)[CH2:36]2\n",
      "O=[C:1]1[CH2:2][CH2:3][C@@H:4]2[CH2:5][N:6]([C:7](=[O:8])[c:9]3[cH:10][c:11]([C:12]([F:13])([F:14])[F:15])[cH:16][c:17]([C:18]([F:19])([F:20])[F:21])[cH:22]3)[C@H:23]([CH2:24][c:25]3[cH:26][nH:27][c:28]4[cH:29][cH:30][cH:31][cH:32][c:33]34)[CH2:34][N:35]2[CH2:36]1.[CH2:37]1[CH2:38][CH2:39][NH:40][CH2:41]1\n",
      "\n"
     ]
    },
    {
     "name": "stderr",
     "output_type": "stream",
     "text": []
    },
    {
     "name": "stdout",
     "output_type": "stream",
     "text": [
      "[c:1]1([NH:33][C@H:18]2[CH2:31][CH2:30][N:21]([C@H:20]3[CH2:19][CH2:17][C@@H:28]([N:29]([CH3:22])[CH:32]([CH3:24])[CH3:25])[CH2:26][C@H:23]3[CH2:27][CH2:16][CH3:15])[C:34]2=[O:35])[cH:2][cH:3][n:4][c:5]2[cH:6][cH:7][c:8]([C:9]([F:10])([F:11])[F:12])[cH:13][c:14]12\n",
      "Cl[c:1]1[cH:2][cH:3][n:4][c:5]2[cH:6][cH:7][c:8]([C:9]([F:10])([F:11])[F:12])[cH:13][c:14]12.[CH3:15][CH2:16][CH2:17][C@@H:18]1[CH2:19][C@H:20]([N:21]([CH3:22])[CH:23]([CH3:24])[CH3:25])[CH2:26][CH2:27][C@@H:28]1[N:29]1[CH2:30][CH2:31][C@H:32]([NH2:33])[C:34]1=[O:35]\n",
      "\n"
     ]
    },
    {
     "name": "stderr",
     "output_type": "stream",
     "text": [
      "[Parallel(n_jobs=126)]: Done 44748 tasks      | elapsed:  1.9min\n"
     ]
    },
    {
     "name": "stdout",
     "output_type": "stream",
     "text": [
      "[C:1]([NH:3][C@@H:2]([C:5]([CH3:6])([CH3:7])[CH3:35])[C:28]([N:26]([CH3:27])[C@H:30](/[CH:21]=[C:19](/[C:17]([O:16][CH2:15][CH3:14])=[O:18])[CH3:20])[CH:23]([CH3:24])[CH3:25])=[O:29])(=[O:13])[C@H:22]([NH:31][CH3:4])[C:32]([c:8]1[cH:9][cH:10][cH:11][s:12]1)([CH3:33])[CH3:34]\n",
      "O[C:1]([C@@H:2]([NH:3][CH3:4])[C:5]([CH3:6])([CH3:7])[c:8]1[cH:9][cH:10][cH:11][s:12]1)=[O:13].[CH3:14][CH2:15][O:16][C:17](=[O:18])/[C:19]([CH3:20])=[CH:21]/[C@H:22]([CH:23]([CH3:24])[CH3:25])[N:26]([CH3:27])[C:28](=[O:29])[C@@H:30]([NH2:31])[C:32]([CH3:33])([CH3:34])[CH3:35]\n",
      "\n",
      "[CH2:1]=[CH:2][C:3]([NH:4][C:6]([CH3:5])([CH3:7])[CH3:8])=[O:9]\n",
      "[CH2:1]=[CH:2][C:3]#[N:4].[CH3:5][C:6]([CH3:7])([CH3:8])[OH:9]\n",
      "\n"
     ]
    },
    {
     "name": "stderr",
     "output_type": "stream",
     "text": []
    },
    {
     "name": "stdout",
     "output_type": "stream",
     "text": [
      "[CH3:1][C:2]([CH3:3])([CH3:4])[NH:6][C:7](=[O:5])[CH:8]1[CH2:9][NH:10][CH2:11][CH2:12][NH:13]1\n",
      "[CH3:1][C:2]([CH3:3])([CH3:4])[OH:5].[N:6]#[C:7][CH:8]1[CH2:9][NH:10][CH2:11][CH2:12][NH:13]1\n",
      "\n"
     ]
    },
    {
     "name": "stderr",
     "output_type": "stream",
     "text": [
      "[Parallel(n_jobs=126)]: Done 47798 tasks      | elapsed:  2.0min\n",
      "50016it [02:02, 409.37it/s]\n",
      "[Parallel(n_jobs=126)]: Done 50016 out of 50016 | elapsed:  2.0min finished\n"
     ]
    }
   ],
   "source": [
    "frag_mol_list_raw = pmap_multi(handle_per_task, [(target, source) for (target, source) in tasks])"
   ]
  },
  {
   "cell_type": "code",
   "execution_count": 6,
   "metadata": {},
   "outputs": [
    {
     "name": "stdout",
     "output_type": "stream",
     "text": [
      "valid frag mol:85544\n"
     ]
    }
   ],
   "source": [
    "frag_mol_list_raw = sum([one for one in frag_mol_list_raw if one is not None],[])\n",
    "\n",
    "frag_source_target_list = [(Chem.MolToSmiles(remove_am(one[0])), Chem.MolToSmiles(one[1]), Chem.MolToSmiles(one[2])) for one in frag_mol_list_raw]\n",
    "\n",
    "print(f\"valid frag mol:{len(frag_source_target_list)}\")"
   ]
  },
  {
   "cell_type": "code",
   "execution_count": 7,
   "metadata": {},
   "outputs": [],
   "source": [
    "frag_smiles_list = [frag_smi for (frag_smi,source_smi, target_smi) in frag_source_target_list]\n",
    "frag_smiles_list_splitted = sum([one.split(\".\") for one in frag_smiles_list], [])\n",
    "\n",
    "# 我们只考虑单点编辑的情况\n",
    "\n",
    "def canonical_smiles_per_task(smi):\n",
    "    # 设置sanitize=False防止MolFromSmiles时自动将C变成c\n",
    "    return Chem.MolToSmiles(Chem.MolFromSmiles(smi, sanitize=False))\n",
    "\n",
    "frag_smiles_list_splitted = [ canonical_smiles_per_task(one)  for one in frag_smiles_list_splitted]\n",
    "\n",
    "\n",
    "\n",
    "from collections import Counter\n",
    "frag_smiles_count = dict(Counter(frag_smiles_list_splitted))\n",
    "frag_smiles_count = sorted(frag_smiles_count.items(),key = lambda x:x[1],reverse = True)\n",
    "frag_smiles_count = {key:val for key, val in frag_smiles_count}\n",
    "json.dump(frag_smiles_count, open(sv_path+\"frag_smiles_count.json\", \"w\"), indent=4)\n",
    " \n",
    "with open(sv_path+\"frag_smiles.txt\",\"w\") as f:\n",
    "    f.writelines(\"\\n\".join(list(frag_smiles_count.keys())))"
   ]
  },
  {
   "cell_type": "code",
   "execution_count": 8,
   "metadata": {},
   "outputs": [],
   "source": [
    "data_with_frag = pd.DataFrame(columns=[\"frag\",\"source\", \"target\"])\n",
    "for i, (frag,source, target) in enumerate(frag_source_target_list):\n",
    "    data_with_frag.loc[i,\"frag\"] = frag\n",
    "    data_with_frag.loc[i,\"source\"] = source\n",
    "    data_with_frag.loc[i,\"target\"] = target\n",
    "data_with_frag.to_csv(\"/gaozhangyang/experiments/MotifRetro/data/uspto_50k/data_with_frag.csv\")"
   ]
  },
  {
   "cell_type": "code",
   "execution_count": 28,
   "metadata": {},
   "outputs": [
    {
     "name": "stdout",
     "output_type": "stream",
     "text": [
      "368\n",
      "409\n",
      "948\n",
      "1296\n",
      "1541\n",
      "1637\n",
      "2705\n",
      "2722\n",
      "3458\n",
      "3956\n",
      "4383\n",
      "5127\n",
      "6101\n",
      "7453\n",
      "7578\n",
      "7878\n",
      "8203\n",
      "8308\n",
      "8314\n",
      "8945\n",
      "9409\n",
      "10583\n",
      "10717\n",
      "11437\n",
      "11523\n",
      "12776\n",
      "13048\n",
      "13207\n",
      "13269\n",
      "14570\n",
      "15651\n",
      "18407\n",
      "18759\n",
      "20203\n",
      "20214\n",
      "20754\n",
      "20772\n",
      "20866\n",
      "21411\n",
      "22325\n",
      "23671\n",
      "24376\n",
      "24891\n",
      "24958\n",
      "25516\n",
      "26657\n",
      "26658\n",
      "26702\n",
      "26832\n",
      "26965\n",
      "28561\n",
      "29157\n",
      "29949\n",
      "30928\n",
      "31018\n",
      "31514\n",
      "31928\n",
      "32191\n",
      "32337\n",
      "32393\n",
      "32902\n",
      "33254\n",
      "35595\n",
      "37185\n",
      "37888\n",
      "38493\n",
      "41887\n",
      "42164\n",
      "42753\n",
      "42853\n",
      "43519\n",
      "44912\n",
      "45478\n",
      "46905\n",
      "47963\n",
      "48499\n",
      "49631\n",
      "49632\n",
      "50971\n",
      "51249\n",
      "51293\n",
      "51665\n",
      "51803\n",
      "52357\n",
      "52931\n",
      "53683\n",
      "53718\n",
      "53780\n",
      "53903\n",
      "54248\n",
      "54551\n",
      "56198\n",
      "57092\n",
      "57235\n",
      "57340\n",
      "57729\n",
      "59882\n",
      "60643\n",
      "61188\n",
      "61217\n",
      "61373\n",
      "62284\n",
      "63336\n",
      "63382\n",
      "63506\n",
      "64281\n",
      "64500\n",
      "65007\n",
      "65010\n",
      "65933\n",
      "66860\n",
      "66863\n",
      "68895\n",
      "68912\n",
      "69096\n",
      "73058\n",
      "73360\n",
      "75295\n",
      "75622\n",
      "75834\n",
      "76027\n",
      "76348\n",
      "76591\n",
      "77480\n",
      "77580\n",
      "77735\n",
      "78628\n",
      "79306\n",
      "79860\n",
      "80192\n",
      "80202\n",
      "80461\n",
      "80878\n",
      "81114\n",
      "81204\n",
      "81896\n",
      "82106\n",
      "82121\n",
      "82367\n",
      "82605\n",
      "82647\n",
      "84780\n"
     ]
    }
   ],
   "source": [
    "for idx, one in enumerate(frag_smiles_list):\n",
    "    for smi in one.split(\".\"):\n",
    "        if canonical_smiles_per_task(smi) == \"O=c1*c(=O)c2ccccc12\":\n",
    "            print(idx)\n",
    "            break"
   ]
  }
 ],
 "metadata": {
  "kernelspec": {
   "display_name": "equibind",
   "language": "python",
   "name": "python3"
  },
  "language_info": {
   "codemirror_mode": {
    "name": "ipython",
    "version": 3
   },
   "file_extension": ".py",
   "mimetype": "text/x-python",
   "name": "python",
   "nbconvert_exporter": "python",
   "pygments_lexer": "ipython3",
   "version": "3.7.12"
  },
  "orig_nbformat": 4,
  "vscode": {
   "interpreter": {
    "hash": "43ba559bd9b9425188d86553db18524406fb2a85e37c133054cdad2bbfee5c31"
   }
  }
 },
 "nbformat": 4,
 "nbformat_minor": 2
}
