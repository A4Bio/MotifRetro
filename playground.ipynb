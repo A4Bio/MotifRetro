{
 "cells": [
  {
   "cell_type": "code",
   "execution_count": 1,
   "metadata": {},
   "outputs": [],
   "source": [
    "import numpy as np\n",
    "import pandas as pd\n",
    "from tqdm import tqdm\n",
    "from src.datasets import Dataset\n",
    "from src.utils import complete_mappings\n",
    "from torch.utils.data import Dataset as Dataset_torch\n",
    "from utils.megan_utils import FEATURIZER_INITIALIZERS\n",
    "import torch\n",
    "from src.feat.megan_graph import MeganTrainingSamplesFeaturizer, get_sample_data_path\n",
    "from src.split.basic_splits import DefaultSplit\n",
    "\n",
    "from scipy import sparse\n",
    "from src.datasets.uspto_hard import UsptoHard\n",
    "from src.datasets.uspto_50k import Uspto50k\n",
    "from tqdm import tqdm\n",
    "import os\n",
    "import pandas as pd\n",
    "from rdkit import Chem"
   ]
  },
  {
   "cell_type": "code",
   "execution_count": 2,
   "metadata": {},
   "outputs": [
    {
     "name": "stderr",
     "output_type": "stream",
     "text": [
      "100%|██████████| 800256/800256 [00:01<00:00, 597438.48it/s]\n"
     ]
    }
   ],
   "source": [
    "# key = 'megan-baseline'\n",
    "key = 'uspto_50k_motif'\n",
    "data_dir = '/gaozhangyang/experiments/MotifRetro/data'\n",
    "dataset = Uspto50k(data_dir)\n",
    "DEFAULT_SPLIT = DefaultSplit()\n",
    "featurizer = MeganTrainingSamplesFeaturizer(n_jobs=128, max_n_steps=50,\n",
    "                                            split=DEFAULT_SPLIT, key=key,\n",
    "                                            action_order='bfs_randat',\n",
    "                                            use_motif_action=1,\n",
    "                                            use_motif_feature=0,\n",
    "                                            vocab_path='/gaozhangyang/chenxran/MotifRetro/data/uspto_hard/uspto_bpe_300.txt')\n",
    "\n",
    "action_vocab = featurizer.get_actions_vocabulary(dataset.feat_dir)\n",
    "sample_data = sparse.load_npz(get_sample_data_path(featurizer.dir(dataset.feat_dir)))\n",
    "# change datatype to int\n",
    "sample_data = sample_data.astype(np.int32).toarray()\n",
    "\n",
    "action_frequency = {}\n",
    "action_vocab['action_tuples']\n",
    "for i in tqdm(range(sample_data.shape[0])):\n",
    "    # pass\n",
    "    action_ind, atom_map1, atom_map2, n_nodes, is_atom_action = \\\n",
    "    sample_data[i, 0], sample_data[i, 1], sample_data[i, 2], sample_data[i, 3], sample_data[i, 4]\n",
    "    this_action_ind, a1, a2 = action_ind, atom_map1, atom_map2\n",
    "\n",
    "    action = str(action_vocab['action_tuples'][this_action_ind])\n",
    "    \n",
    "    if action not in action_frequency:\n",
    "        action_frequency[action] = 1\n",
    "    action_frequency[action] += 1\n",
    "\n",
    "action_frequency = sorted(action_frequency.items(), key=lambda x: x[1], reverse=True)"
   ]
  },
  {
   "cell_type": "code",
   "execution_count": 5,
   "metadata": {},
   "outputs": [
    {
     "data": {
      "text/plain": [
       "[(\"('add_motif', '*C(=O)OC(C)(C)C')\", 853),\n",
       " (\"('add_motif', '*OC(C)(C)C')\", 738),\n",
       " (\"('change_atom', (-1, 0, 0, 0))\", 722),\n",
       " (\"('change_atom', (1, 0, 0, 0))\", 588),\n",
       " (\"('add_motif', '*OCc1ccccc1')\", 566),\n",
       " (\"('change_bond', (12, 0))\", 561),\n",
       " (\"('add_motif', '*c1ccccc1')\", 543),\n",
       " (\"('add_motif', '*S(=O)=O')\", 495),\n",
       " (\"('add_motif', '*C(=O)OCC')\", 489),\n",
       " (\"('change_bond', (3, 0))\", 480),\n",
       " (\"('add_motif', '*NC(=O)OC(C)(C)C')\", 454),\n",
       " (\"('add_atom', ((1, 0), (8, -1, 0, 0, 0)))\", 404),\n",
       " (\"('add_atom', ((1, 0), (12, 1, 0, 0, 0)))\", 291),\n",
       " (\"('add_motif', '*Cc1ccccc1')\", 274),\n",
       " (\"('add_atom', ((1, 0), (50, 0, 0, 0, 0)))\", 254),\n",
       " (\"('add_motif', '*C(F)(F)F')\", 243),\n",
       " (\"('add_motif', '*[Si](C)(C)C')\", 241),\n",
       " (\"('add_motif', '*C(=O)OCc1ccccc1')\", 238),\n",
       " (\"('add_motif', '*OC')\", 216),\n",
       " (\"('add_motif', '*=C(C)OC(C)=O')\", 208),\n",
       " (\"('add_motif', '*CCCC')\", 207),\n",
       " (\"('add_motif', '*[Sn](CCCC)CCCC')\", 205),\n",
       " (\"('change_atom', (0, 0, 0, 1))\", 185),\n",
       " (\"('add_motif', '*C(C)(C)C')\", 184),\n",
       " (\"('add_motif', '*=[N+]=[N-]')\", 178),\n",
       " (\"('add_motif', '*N1CCCC1=O')\", 177),\n",
       " (\"('replace_motif', 'c1cc[cH:501][cH:500]c1')\", 176),\n",
       " (\"('add_motif', '*[P+]c1ccccc1')\", 164),\n",
       " (\"('add_atom', ((1, 0), (7, 0, 0, 0, 0)))\", 159),\n",
       " (\"('change_bond', (2, 3))\", 157),\n",
       " (\"('change_atom', (0, 2, 0, 0))\", 140),\n",
       " (\"('add_motif', '*=CN(C)C')\", 135),\n",
       " (\"('add_motif', '*N1CccC1')\", 123),\n",
       " (\"('add_motif', '*P=O')\", 117),\n",
       " (\"('add_motif', '*P(=O)OCC')\", 108),\n",
       " (\"('add_motif', '*C1CCN(C(=O)OC(C)(C)C)CC1')\", 90),\n",
       " (\"('add_motif', '*CNC(=O)OC(C)(C)C')\", 86),\n",
       " (\"('add_motif', '*#C[Si](C)C')\", 84),\n",
       " (\"('add_motif', '*C1CCCCO1')\", 83),\n",
       " (\"('add_motif', '*C(C)=O')\", 80),\n",
       " (\"('add_motif', '*N1CCN(C(=O)OC(C)(C)C)CC1')\", 79),\n",
       " (\"('add_motif', '*NC(C)=O')\", 77),\n",
       " (\"('change_atom', (0, 1, 0, 0))\", 76),\n",
       " (\"('replace_motif', 'C1C[O:501][CH2:500]O1')\", 72),\n",
       " (\"('add_motif', '*CBr')\", 69),\n",
       " (\"('add_motif', '*Cc1ccc(OC)cc1')\", 60),\n",
       " (\"('add_atom', ((1, 0), (29, 0, 0, 0, 0)))\", 60),\n",
       " (\"('add_atom', ((1, 0), (30, 1, 0, 0, 0)))\", 56),\n",
       " (\"('add_motif', '*CCNC(=O)OC(C)(C)C')\", 53),\n",
       " (\"('add_motif', '*C(=O)OC')\", 48),\n",
       " (\"('add_motif', '*N(C)C(=O)OC(C)(C)C')\", 47),\n",
       " (\"('change_bond', (2, 2))\", 47),\n",
       " (\"('add_motif', '*C(C)C')\", 46),\n",
       " (\"('add_motif', '*CC(=O)OC(C)(C)C')\", 44),\n",
       " (\"('add_atom', ((2, 0), (15, 0, 0, 0, 0)))\", 43),\n",
       " (\"('add_atom', ((2, 0), (6, 0, 0, 0, 0)))\", 43),\n",
       " (\"('add_motif', '*=OCC')\", 42),\n",
       " (\"('add_motif', '*C1CCCN(C(=O)OC(C)(C)C)C1')\", 41),\n",
       " (\"('add_motif', '*COC(C)=O')\", 40),\n",
       " (\"('replace_motif', 'C1C[O:500][CH2:501]O1')\", 33),\n",
       " (\"('add_atom', ((1, 0), (16, 1, 0, 0, 0)))\", 30),\n",
       " (\"('add_motif', '*C1cc-cc1')\", 27),\n",
       " (\"('add_motif', '*C(=O)CF')\", 25),\n",
       " (\"('add_motif', '*B1OBOBO1')\", 25),\n",
       " (\"('add_motif', '*CCCNC(=O)OC(C)(C)C')\", 23),\n",
       " (\"('add_motif', '*NC(=O)C(F)F')\", 23),\n",
       " (\"('add_motif', '*NC(=O)c1ccccc1')\", 20),\n",
       " (\"('add_motif', '*NCc1ccccc1')\", 19),\n",
       " (\"('add_motif', '*CC')\", 19),\n",
       " (\"('add_motif', '*OCCCC')\", 18),\n",
       " (\"('add_motif', '*B1OCCCO1')\", 17),\n",
       " (\"('add_motif', '*CCl')\", 17),\n",
       " (\"('add_motif', '*OCCC')\", 14),\n",
       " (\"('add_motif', '*N(C)C(C)=O')\", 14),\n",
       " (\"('add_motif', '*CNC(C)=O')\", 14),\n",
       " (\"('add_atom', ((2, 0), (16, 0, 0, 0, 0)))\", 14),\n",
       " (\"('add_motif', '*OCCNC(=O)OC(C)(C)C')\", 13),\n",
       " (\"('add_motif', '*OCC(C)C')\", 12),\n",
       " (\"('add_motif', '*COC(=O)c1ccccc1')\", 12),\n",
       " (\"('add_motif', '*S=O')\", 11),\n",
       " (\"('add_motif', '*CCNC(=O)OCc1ccccc1')\", 11),\n",
       " (\"('add_motif', '*=C1CCN(C(=O)OC(C)(C)C)CC1')\", 11),\n",
       " (\"('add_motif', '*=Cn1ccnc1')\", 10),\n",
       " (\"('add_motif', '*n1ccnc1')\", 10),\n",
       " (\"('add_motif', '*C1CCCCN1C(=O)OC(C)(C)C')\", 10),\n",
       " (\"('add_motif', '*:C(=O)OCC')\", 10),\n",
       " (\"('add_motif', '*OC(C)C')\", 10),\n",
       " (\"('add_motif', '*C(=O)C(C)(C)C')\", 9),\n",
       " (\"('add_motif', '*CCN(C)C(=O)OC(C)(C)C')\", 8),\n",
       " (\"('add_motif', '*CNCc1ccccc1')\", 7),\n",
       " (\"('change_atom', (0, 0, 1, 0))\", 6),\n",
       " (\"('add_motif', '*CCCCCCCC')\", 6),\n",
       " (\"('add_motif', '*N(C)Cc1ccccc1')\", 6),\n",
       " (\"('add_motif', '*C(=O)c1ccccc1')\", 6),\n",
       " (\"('replace_motif', 'C1CO[CH2:501][O:500]C1')\", 6),\n",
       " (\"('add_motif', '*CCN(C)Cc1ccccc1')\", 6),\n",
       " (\"('add_atom', ((1, 0), (30, 0, 0, 0, 0)))\", 6),\n",
       " (\"('add_motif', '*COC')\", 6),\n",
       " (\"('replace_motif', 'C1CO[CH2:500][O:501]C1')\", 5),\n",
       " (\"('add_motif', '*NC')\", 4),\n",
       " (\"('add_motif', '*C(=O)CCC')\", 4),\n",
       " (\"('add_motif', '*B1OCCNCCO1')\", 4),\n",
       " (\"('add_motif', '*N(CC)C(=O)OC(C)(C)C')\", 4),\n",
       " (\"('add_motif', '*CCNC(=O)C(F)(F)F')\", 4),\n",
       " (\"('add_atom', ((1, 0), (12, 0, 0, 0, 0)))\", 4),\n",
       " (\"('add_motif', '*C=O')\", 4),\n",
       " (\"('add_motif', '*OCC(F)(F)F')\", 4),\n",
       " (\"('add_motif', '*C(=O)C(C)C')\", 3),\n",
       " (\"('add_motif', '*=CCOC(=O)CCC')\", 3),\n",
       " (\"('add_motif', '*CCCCCCC')\", 3),\n",
       " (\"('add_motif', '*c1ccc(Cl)c(Cl)c1')\", 3),\n",
       " (\"('add_motif', '*N(CC)Cc1ccccc1')\", 3),\n",
       " (\"('add_atom', ((2, 0), (7, 0, 0, 0, 0)))\", 3),\n",
       " (\"('add_atom', ((1, 0), (6, 0, 1, 0, 0)))\", 3),\n",
       " (\"('add_motif', '*C1CCCCC1')\", 3),\n",
       " (\"('add_motif', '*CC(=O)OCC')\", 3),\n",
       " (\"('add_motif', '*=OC(C)C')\", 3),\n",
       " (\"('add_atom', ((1, 0), (7, 1, 0, 0, 0)))\", 3),\n",
       " (\"('add_motif', '*OCC=C')\", 3),\n",
       " (\"('add_motif', '*=CC')\", 3),\n",
       " (\"('add_motif', '*c1ccc(F)cc1')\", 3),\n",
       " (\"('add_atom', ((1, 0), (6, 0, 0, 0, 1)))\", 2),\n",
       " (\"('replace_motif', 'C1CC[cH:501][cH:500]C1')\", 2),\n",
       " (\"('add_atom', ((1, 0), (15, 1, 0, 0, 0)))\", 2),\n",
       " (\"('add_motif', '*CCCCC')\", 2),\n",
       " (\"('add_motif', '*c1ccc(OC)cc1')\", 2),\n",
       " (\"('add_motif', '*C(C)C(C)C')\", 2),\n",
       " (\"('add_motif', '*OC(C)CC')\", 2),\n",
       " (\"('add_motif', '*C1NCCO1')\", 2),\n",
       " (\"('add_motif', '*C(=O)NC')\", 2),\n",
       " (\"('add_motif', '*=CCCCC')\", 2),\n",
       " (\"('add_motif', '*Cc1ccccc1O')\", 2),\n",
       " (\"('replace_motif', 'c1cC[NH:500]C1')\", 2),\n",
       " (\"('add_motif', '*C1CCN(CC)CC1')\", 2),\n",
       " (\"('add_motif', '*c1ccc2cc(OC)ccc2c1')\", 2),\n",
       " (\"('add_motif', '*=C(C)OCC')\", 2),\n",
       " (\"('add_motif', '*CCOC(C)=O')\", 2),\n",
       " (\"('add_motif', '*CCC(=O)OC(C)(C)C')\", 2),\n",
       " (\"('add_motif', '*Cn1ccnc1')\", 2),\n",
       " (\"('replace_motif', 'c1cn[cH:501][cH:500]c1')\", 2),\n",
       " (\"('change_atom', (-1, 0, 0, 1))\", 2),\n",
       " (\"('add_motif', '*B1OCC=CO1')\", 2),\n",
       " (\"('add_motif', '*C1CN(C(=O)OC(C)(C)C)CCN1')\", 2),\n",
       " (\"('add_motif', '*OCC1CC1')\", 2),\n",
       " (\"('add_motif', '*COC(=O)CCC')\", 2),\n",
       " (\"('add_motif', '*=COC(C)=O')\", 2),\n",
       " (\"('add_motif', '*CCNCc1ccccc1')\", 2),\n",
       " (\"('add_motif', '*=CCO')\", 2),\n",
       " (\"('add_motif', '*=NO')\", 2),\n",
       " (\"('add_motif', '*c1csc(N)n1')\", 2),\n",
       " (\"('add_motif', '*c1ccc(OCCC)cc1')\", 2),\n",
       " (\"('add_motif', '*n1cncn1')\", 2),\n",
       " (\"('add_motif', '*c1cccc(C(F)(F)F)c1')\", 2),\n",
       " (\"('add_motif', '*#CCNC(=O)OC(C)(C)C')\", 2),\n",
       " (\"('add_motif', '*C1(C)CCCCC1')\", 2),\n",
       " (\"('add_motif', '*CCCC=O')\", 2),\n",
       " (\"('add_motif', '*=CN1CCCCC1')\", 2),\n",
       " (\"('add_motif', '*C(F)F')\", 2),\n",
       " (\"('add_motif', '*N(C)C(=O)c1ccccc1')\", 2)]"
      ]
     },
     "execution_count": 5,
     "metadata": {},
     "output_type": "execute_result"
    }
   ],
   "source": [
    "action_frequency[20:]"
   ]
  },
  {
   "cell_type": "code",
   "execution_count": 18,
   "metadata": {},
   "outputs": [
    {
     "name": "stderr",
     "output_type": "stream",
     "text": [
      "100%|██████████| 57659/57659 [00:47<00:00, 1212.56it/s]"
     ]
    },
    {
     "name": "stdout",
     "output_type": "stream",
     "text": [
      "4905\n"
     ]
    },
    {
     "name": "stderr",
     "output_type": "stream",
     "text": [
      "\n"
     ]
    }
   ],
   "source": [
    "count = 0\n",
    "table = pd.read_csv(os.path.join(featurizer.dir(dataset.feat_dir), 'metadata.csv'))\n",
    "with open(os.path.join(featurizer.dir(dataset.feat_dir), 'sanity-check.txt'), 'w') as f:\n",
    "    for i in tqdm(range(len(table))):\n",
    "        # print(table.loc[i, 'final_smi'])\n",
    "        # print(table.loc[i, 'target_smi'])\n",
    "        final_smi = table.loc[i, 'final_smi']\n",
    "        target_smi = table.loc[i, 'target_smi']\n",
    "\n",
    "        final_mol = Chem.MolFromSmiles(final_smi)\n",
    "        if final_mol is None:\n",
    "            f.write(f\"No. {i} exmaples, final_smiles is invalid.\\n\")\n",
    "            f.write(f\"final_smi: {final_smi}\\n\")\n",
    "            f.write(f\"\\n\")\n",
    "            count += 1\n",
    "            continue\n",
    "\n",
    "        for a in final_mol.GetAtoms():\n",
    "            a.SetAtomMapNum(0)\n",
    "\n",
    "        target_mol = Chem.MolFromSmiles(target_smi)\n",
    "        if target_mol is None:\n",
    "            f.write(f\"No. {i} exmaples, target_smiles is invalid.\\n\")\n",
    "            f.write(f\"target_smi: {target_smi}\\n\")\n",
    "            f.write(f\"\\n\")\n",
    "            count += 1\n",
    "            continue\n",
    "\n",
    "        for a in target_mol.GetAtoms():\n",
    "            a.SetAtomMapNum(0)  \n",
    "\n",
    "        final_smi_without_mapping = Chem.MolToSmiles(final_mol)\n",
    "        target_smi_without_mapping = Chem.MolToSmiles(target_mol)\n",
    "        if final_smi_without_mapping == target_smi_without_mapping:\n",
    "            pass\n",
    "        else:\n",
    "            f.write(f\"No. {i} exmaples TARGET and FINAL not same.\\n\")\n",
    "            f.write(f\"target_smiles: {target_smi}\\n\")\n",
    "            f.write(f\" final_smiles: {final_smi}\\n\")\n",
    "            f.write(f\"target_smiles w/o mapping: {target_smi_without_mapping}\\n\")\n",
    "            f.write(f\" final_smiles w/o mapping: {final_smi_without_mapping}\\n\")\n",
    "            f.write(\"\\n\")\n",
    "            count += 1\n",
    "    print(count)"
   ]
  },
  {
   "cell_type": "code",
   "execution_count": 25,
   "metadata": {},
   "outputs": [
    {
     "name": "stderr",
     "output_type": "stream",
     "text": [
      "100%|██████████| 3203300/3203300 [00:05<00:00, 541735.45it/s]\n"
     ]
    }
   ],
   "source": [
    "key = 'truncation_debug-truncate-top-50-without-atombond'\n",
    "data_dir = '/gaozhangyang/chenxran/MotifRetro/data'\n",
    "dataset = UsptoHard(data_dir)\n",
    "DEFAULT_SPLIT = DefaultSplit()\n",
    "featurizer = MeganTrainingSamplesFeaturizer(n_jobs=128, max_n_steps=50,\n",
    "                                            split=DEFAULT_SPLIT, key=key,\n",
    "                                            action_order='bfs_randat',\n",
    "                                            use_motif_action=1,\n",
    "                                            use_motif_feature=0,\n",
    "                                            vocab_path='/gaozhangyang/chenxran/MotifRetro/data/uspto_hard/uspto_bpe_300.txt')\n",
    "\n",
    "action_vocab = featurizer.get_actions_vocabulary(dataset.feat_dir)\n",
    "sample_data = sparse.load_npz(get_sample_data_path(featurizer.dir(dataset.feat_dir)))\n",
    "# change datatype to int\n",
    "sample_data = sample_data.astype(np.int32).toarray()\n",
    "\n",
    "action_frequency = {}\n",
    "action_vocab['action_tuples']\n",
    "for i in tqdm(range(sample_data.shape[0])):\n",
    "    # pass\n",
    "    action_ind, atom_map1, atom_map2, n_nodes, is_atom_action = \\\n",
    "    sample_data[i, 0], sample_data[i, 1], sample_data[i, 2], sample_data[i, 3], sample_data[i, 4]\n",
    "    this_action_ind, a1, a2 = action_ind, atom_map1, atom_map2\n",
    "\n",
    "    action = str(action_vocab['action_tuples'][this_action_ind])\n",
    "    \n",
    "    if action not in action_frequency:\n",
    "        action_frequency[action] = 1\n",
    "    action_frequency[action] += 1\n",
    "\n",
    "action_frequency = sorted(action_frequency.items(), key=lambda x: x[1], reverse=True)"
   ]
  },
  {
   "cell_type": "code",
   "execution_count": null,
   "metadata": {},
   "outputs": [],
   "source": [
    "action_frequency"
   ]
  },
  {
   "cell_type": "code",
   "execution_count": 26,
   "metadata": {},
   "outputs": [
    {
     "name": "stderr",
     "output_type": "stream",
     "text": [
      "100%|██████████| 57579/57579 [00:46<00:00, 1229.08it/s]"
     ]
    },
    {
     "name": "stdout",
     "output_type": "stream",
     "text": [
      "6729\n"
     ]
    },
    {
     "name": "stderr",
     "output_type": "stream",
     "text": [
      "\n"
     ]
    }
   ],
   "source": [
    "count = 0\n",
    "table = pd.read_csv(os.path.join(featurizer.dir(dataset.feat_dir), 'metadata.csv'))\n",
    "with open(os.path.join(featurizer.dir(dataset.feat_dir), 'sanity-check.txt'), 'w') as f:\n",
    "    for i in tqdm(range(len(table))):\n",
    "        # print(table.loc[i, 'final_smi'])\n",
    "        # print(table.loc[i, 'target_smi'])\n",
    "        final_smi = table.loc[i, 'final_smi']\n",
    "        target_smi = table.loc[i, 'target_smi']\n",
    "\n",
    "        final_mol = Chem.MolFromSmiles(final_smi)\n",
    "        if final_mol is None:\n",
    "            f.write(f\"No. {i} exmaples, final_smiles is invalid.\\n\")\n",
    "            f.write(f\"final_smi: {final_smi}\\n\")\n",
    "            f.write(f\"\\n\")\n",
    "            count += 1\n",
    "            continue\n",
    "\n",
    "        for a in final_mol.GetAtoms():\n",
    "            a.SetAtomMapNum(0)\n",
    "\n",
    "        target_mol = Chem.MolFromSmiles(target_smi)\n",
    "        if target_mol is None:\n",
    "            f.write(f\"No. {i} exmaples, target_smiles is invalid.\\n\")\n",
    "            f.write(f\"target_smi: {target_smi}\\n\")\n",
    "            f.write(f\"\\n\")\n",
    "            count += 1\n",
    "            continue\n",
    "\n",
    "        for a in target_mol.GetAtoms():\n",
    "            a.SetAtomMapNum(0)  \n",
    "\n",
    "        final_smi_without_mapping = Chem.MolToSmiles(final_mol)\n",
    "        target_smi_without_mapping = Chem.MolToSmiles(target_mol)\n",
    "        if final_smi_without_mapping == target_smi_without_mapping:\n",
    "            pass\n",
    "        else:\n",
    "            f.write(f\"No. {i} exmaples TARGET and FINAL not same.\\n\")\n",
    "            f.write(f\"target_smiles: {target_smi}\\n\")\n",
    "            f.write(f\" final_smiles: {final_smi}\\n\")\n",
    "            f.write(f\"target_smiles w/o mapping: {target_smi_without_mapping}\\n\")\n",
    "            f.write(f\" final_smiles w/o mapping: {final_smi_without_mapping}\\n\")\n",
    "            f.write(\"\\n\")\n",
    "            count += 1\n",
    "    print(count)"
   ]
  },
  {
   "cell_type": "code",
   "execution_count": 1,
   "metadata": {},
   "outputs": [],
   "source": [
    "import torch\n",
    "\n",
    "\n",
    "ckpt = torch.load(\"/gaozhangyang/experiments/MotifRetro/results/uspto_50k_frag_motif_gate_num_embed_linear2023-01-11 09:20:58.942730/checkpoint.pth\")"
   ]
  },
  {
   "cell_type": "code",
   "execution_count": 5,
   "metadata": {},
   "outputs": [
    {
     "name": "stdout",
     "output_type": "stream",
     "text": [
      "odict_keys(['module.atom_embedding.weight', 'module.atom_embedding.bias', 'module.bond_embedding.weight', 'module.bond_embedding.bias', 'module.degree_embedding.weight', 'module.synthon_embedding.weight', 'module.encoder.MultiHeadGraphConv_1.atoms_att.weight', 'module.encoder.MultiHeadGraphConv_1.atoms_att.bias', 'module.encoder.MultiHeadGraphConv_1.v_layer.weight', 'module.encoder.MultiHeadGraphConv_1.v_layer.bias', 'module.encoder.MultiHeadGraphConv_1.final_att.weight', 'module.encoder.MultiHeadGraphConv_1.final_att.bias', 'module.encoder.MultiHeadGraphConv_1.conv_layer.weight', 'module.encoder.MultiHeadGraphConv_1.conv_layer.bias', 'module.encoder.MultiHeadGraphConv_1.motif_gate.weight', 'module.encoder.MultiHeadGraphConv_1.motif_gate.bias', 'module.encoder.MultiHeadGraphConv_1.num_embed.weight', 'module.encoder.MultiHeadGraphConv_1.num_embed.bias', 'module.encoder.MultiHeadGraphConv_2.atoms_att.weight', 'module.encoder.MultiHeadGraphConv_2.atoms_att.bias', 'module.encoder.MultiHeadGraphConv_2.v_layer.weight', 'module.encoder.MultiHeadGraphConv_2.v_layer.bias', 'module.encoder.MultiHeadGraphConv_2.final_att.weight', 'module.encoder.MultiHeadGraphConv_2.final_att.bias', 'module.encoder.MultiHeadGraphConv_2.conv_layer.weight', 'module.encoder.MultiHeadGraphConv_2.conv_layer.bias', 'module.encoder.MultiHeadGraphConv_2.motif_gate.weight', 'module.encoder.MultiHeadGraphConv_2.motif_gate.bias', 'module.encoder.MultiHeadGraphConv_2.num_embed.weight', 'module.encoder.MultiHeadGraphConv_2.num_embed.bias', 'module.encoder.MultiHeadGraphConv_3.atoms_att.weight', 'module.encoder.MultiHeadGraphConv_3.atoms_att.bias', 'module.encoder.MultiHeadGraphConv_3.v_layer.weight', 'module.encoder.MultiHeadGraphConv_3.v_layer.bias', 'module.encoder.MultiHeadGraphConv_3.final_att.weight', 'module.encoder.MultiHeadGraphConv_3.final_att.bias', 'module.encoder.MultiHeadGraphConv_3.conv_layer.weight', 'module.encoder.MultiHeadGraphConv_3.conv_layer.bias', 'module.encoder.MultiHeadGraphConv_3.motif_gate.weight', 'module.encoder.MultiHeadGraphConv_3.motif_gate.bias', 'module.encoder.MultiHeadGraphConv_3.num_embed.weight', 'module.encoder.MultiHeadGraphConv_3.num_embed.bias', 'module.encoder.MultiHeadGraphConv_4.atoms_att.weight', 'module.encoder.MultiHeadGraphConv_4.atoms_att.bias', 'module.encoder.MultiHeadGraphConv_4.v_layer.weight', 'module.encoder.MultiHeadGraphConv_4.v_layer.bias', 'module.encoder.MultiHeadGraphConv_4.final_att.weight', 'module.encoder.MultiHeadGraphConv_4.final_att.bias', 'module.encoder.MultiHeadGraphConv_4.conv_layer.weight', 'module.encoder.MultiHeadGraphConv_4.conv_layer.bias', 'module.encoder.MultiHeadGraphConv_4.motif_gate.weight', 'module.encoder.MultiHeadGraphConv_4.motif_gate.bias', 'module.encoder.MultiHeadGraphConv_4.num_embed.weight', 'module.encoder.MultiHeadGraphConv_4.num_embed.bias', 'module.encoder.MultiHeadGraphConv_5.atoms_att.weight', 'module.encoder.MultiHeadGraphConv_5.atoms_att.bias', 'module.encoder.MultiHeadGraphConv_5.v_layer.weight', 'module.encoder.MultiHeadGraphConv_5.v_layer.bias', 'module.encoder.MultiHeadGraphConv_5.final_att.weight', 'module.encoder.MultiHeadGraphConv_5.final_att.bias', 'module.encoder.MultiHeadGraphConv_5.conv_layer.weight', 'module.encoder.MultiHeadGraphConv_5.conv_layer.bias', 'module.encoder.MultiHeadGraphConv_5.motif_gate.weight', 'module.encoder.MultiHeadGraphConv_5.motif_gate.bias', 'module.encoder.MultiHeadGraphConv_5.num_embed.weight', 'module.encoder.MultiHeadGraphConv_5.num_embed.bias', 'module.encoder.MultiHeadGraphConv_6.atoms_att.weight', 'module.encoder.MultiHeadGraphConv_6.atoms_att.bias', 'module.encoder.MultiHeadGraphConv_6.v_layer.weight', 'module.encoder.MultiHeadGraphConv_6.v_layer.bias', 'module.encoder.MultiHeadGraphConv_6.final_att.weight', 'module.encoder.MultiHeadGraphConv_6.final_att.bias', 'module.encoder.MultiHeadGraphConv_6.conv_layer.weight', 'module.encoder.MultiHeadGraphConv_6.conv_layer.bias', 'module.encoder.MultiHeadGraphConv_6.motif_gate.weight', 'module.encoder.MultiHeadGraphConv_6.motif_gate.bias', 'module.encoder.MultiHeadGraphConv_6.num_embed.weight', 'module.encoder.MultiHeadGraphConv_6.num_embed.bias', 'module.decoder.MultiHeadGraphConv_1.atoms_att.weight', 'module.decoder.MultiHeadGraphConv_1.atoms_att.bias', 'module.decoder.MultiHeadGraphConv_1.v_layer.weight', 'module.decoder.MultiHeadGraphConv_1.v_layer.bias', 'module.decoder.MultiHeadGraphConv_1.final_att.weight', 'module.decoder.MultiHeadGraphConv_1.final_att.bias', 'module.decoder.MultiHeadGraphConv_1.conv_layer.weight', 'module.decoder.MultiHeadGraphConv_1.conv_layer.bias', 'module.decoder.MultiHeadGraphConv_1.motif_gate.weight', 'module.decoder.MultiHeadGraphConv_1.motif_gate.bias', 'module.decoder.MultiHeadGraphConv_1.num_embed.weight', 'module.decoder.MultiHeadGraphConv_1.num_embed.bias', 'module.decoder.MultiHeadGraphConv_2.atoms_att.weight', 'module.decoder.MultiHeadGraphConv_2.atoms_att.bias', 'module.decoder.MultiHeadGraphConv_2.v_layer.weight', 'module.decoder.MultiHeadGraphConv_2.v_layer.bias', 'module.decoder.MultiHeadGraphConv_2.final_att.weight', 'module.decoder.MultiHeadGraphConv_2.final_att.bias', 'module.decoder.MultiHeadGraphConv_2.conv_layer.weight', 'module.decoder.MultiHeadGraphConv_2.conv_layer.bias', 'module.decoder.MultiHeadGraphConv_2.motif_gate.weight', 'module.decoder.MultiHeadGraphConv_2.motif_gate.bias', 'module.decoder.MultiHeadGraphConv_2.num_embed.weight', 'module.decoder.MultiHeadGraphConv_2.num_embed.bias', 'module.decoder.fc_atom_1.weight', 'module.decoder.fc_atom_1.bias', 'module.decoder.fc_atom_2.weight', 'module.decoder.fc_atom_2.bias', 'module.decoder.fc_atom_bond.weight', 'module.decoder.fc_atom_bond.bias', 'module.decoder.fc_bond_1.weight', 'module.decoder.fc_bond_1.bias', 'module.decoder.fc_bond_2.weight', 'module.decoder.fc_bond_2.bias'])\n"
     ]
    }
   ],
   "source": [
    "print(ckpt.keys())"
   ]
  },
  {
   "cell_type": "code",
   "execution_count": 4,
   "metadata": {},
   "outputs": [],
   "source": [
    "new_ckpt = {}\n",
    "for k,v in ckpt.items():\n",
    "    new_ckpt[k.replace('module.', '')] = v\n",
    "torch.save(new_ckpt, 'checkpoint.pth')"
   ]
  },
  {
   "cell_type": "code",
   "execution_count": 1,
   "metadata": {},
   "outputs": [],
   "source": [
    "# open json /gaozhangyang/experiments/MotifRetro/data/uspto_50k/decompose_edit_path.json\n",
    "import json\n",
    "\n",
    "with open(\"/gaozhangyang/experiments/MotifRetro/data/uspto_50k/decompose_edit_path.json\", \"r\") as f:\n",
    "    lg_action_paths = json.load(f)\n",
    "\n",
    "with open(\"/gaozhangyang/experiments/MotifRetro/data/uspto_50k/feat/uspto_50k_frag/all_actions.json\", \"r\") as f:\n",
    "    actions = json.load(f)\n"
   ]
  },
  {
   "cell_type": "code",
   "execution_count": 4,
   "metadata": {},
   "outputs": [
    {
     "name": "stdout",
     "output_type": "stream",
     "text": [
      "*C(=O)OC(C)(C)C {'0': [{'*C(=O)OC(C)(C)C': {'attach': 0, 'am_smi': '*[C:1](=[O:2])[O:3][C:4]([CH3:5])([CH3:6])[CH3:7]', 'freq': 2416}}]}\n"
     ]
    }
   ],
   "source": [
    "for k, v in lg_action_paths.items():\n",
    "    for i, action in v['path'].items():\n",
    "        action\n",
    "    print(k, v['path'])\n",
    "    break"
   ]
  },
  {
   "cell_type": "code",
   "execution_count": 5,
   "metadata": {},
   "outputs": [
    {
     "data": {
      "text/plain": [
       "[['add_motif', '*C(=O)OC(C)(C)C'],\n",
       " ['stop', None],\n",
       " ['change_bond', [None, None]],\n",
       " ['add_motif', '*Cl'],\n",
       " ['add_motif', '*Br'],\n",
       " ['add_motif', '*B(O)O'],\n",
       " ['change_atom', [0, 0, 1, 1]],\n",
       " ['change_atom', [0, 1, 1, 0]],\n",
       " ['add_motif', '*O'],\n",
       " ['add_motif', '*OS(=O)(=O)C(F)(F)F'],\n",
       " ['add_motif', '*=O'],\n",
       " ['change_bond', [3, 0]],\n",
       " ['change_bond', [1, 0]],\n",
       " ['add_motif', '*B1OC(C)(C)C(C)(C)O1'],\n",
       " ['change_atom', [0, 2, 1, 0]],\n",
       " ['add_motif', '*[Cu]'],\n",
       " ['add_motif', '*C(C)(C)C'],\n",
       " ['add_motif', '*CC'],\n",
       " ['add_motif', '*I'],\n",
       " ['change_atom', [1, 0, 0, 0]],\n",
       " ['add_motif', 'O=[*+][O-]'],\n",
       " ['add_motif', '*C'],\n",
       " ['change_bond', [2, 3]],\n",
       " ['change_bond', [2, 0]],\n",
       " ['add_motif', '*OS(C)(=O)=O'],\n",
       " ['add_motif', '*=[N+]=[N-]'],\n",
       " ['add_motif', '*Cc1ccccc1'],\n",
       " ['add_motif', '*[Sn](CCCC)(CCCC)CCCC'],\n",
       " ['change_atom', [0, 0, 0, 0]],\n",
       " ['add_motif', '*C(=O)OCc1ccccc1'],\n",
       " ['add_motif', '*F'],\n",
       " ['add_motif', '*OC(=O)OC(C)(C)C'],\n",
       " ['change_atom', [0, 0, 0, 1]],\n",
       " ['add_motif', '*[Si](C)(C)C(C)(C)C'],\n",
       " ['change_atom', [0, 2, 0, 0]],\n",
       " ['add_motif', '*=P(c1ccccc1)(c1ccccc1)c1ccccc1'],\n",
       " ['change_atom', [-1, 0, 0, 0]],\n",
       " ['add_motif', '*C(C)=O'],\n",
       " ['add_motif', '*OC'],\n",
       " ['add_motif', '*B1OCCCO1'],\n",
       " ['add_motif', '*[Mg+]'],\n",
       " ['add_motif', '*[P+](c1ccccc1)(c1ccccc1)c1ccccc1'],\n",
       " ['add_motif', '*C(=O)O'],\n",
       " ['add_motif', '*[Si](C)(C)C'],\n",
       " ['add_motif', '*OCC'],\n",
       " ['change_atom', [0, 1, 0, 0]],\n",
       " ['add_motif', '*OC(=O)C(F)F'],\n",
       " ['add_motif', 'O=c1*c(=O)c2ccccc12'],\n",
       " ['add_motif', 'Cl*Cl'],\n",
       " ['add_motif', '*[Zn+]'],\n",
       " ['add_motif', '*N1C(=O)CCC1=O'],\n",
       " ['add_motif', 'O=*O'],\n",
       " ['add_motif', '*[S+](C)(C)=O'],\n",
       " ['add_motif', '*C1CCCCO1'],\n",
       " ['change_bond', [2, 2]],\n",
       " ['add_motif', '*COC'],\n",
       " ['add_motif', '*B1OB(C)OB(C)O1'],\n",
       " ['add_motif', '*OC(C)=O'],\n",
       " ['add_motif', '*C(=O)c1ccccc1'],\n",
       " ['add_motif', '*N(C)C'],\n",
       " ['add_motif', '*CCCC'],\n",
       " ['add_motif', '*N(C)OC'],\n",
       " ['add_motif', '*CC(F)F'],\n",
       " ['add_motif', 'Br*Br'],\n",
       " ['add_motif', '*N'],\n",
       " ['add_motif', '*OC(=O)c1cccc(Cl)c1'],\n",
       " ['add_motif', '[*+]=NS(=O)(=O)C(F)(F)F'],\n",
       " ['add_motif', '*OC(=O)C=Cn1cnc(-c2cc(OC)cc(C(F)(F)F)c2)n1'],\n",
       " ['add_motif', '*[O-]'],\n",
       " ['add_motif', '*CI'],\n",
       " ['add_motif', '*[Si](C(C)C)(C(C)C)C(C)C'],\n",
       " ['add_motif', '*P(=O)(OCC)OCC'],\n",
       " ['add_motif', '*C(Br)Br'],\n",
       " ['change_bond', [12, 0]],\n",
       " ['add_motif', 'O=*(=O)Cl'],\n",
       " ['add_motif', '*OC(=O)c1ccccc1'],\n",
       " ['add_motif', '*=S'],\n",
       " ['add_motif', '*P(=O)(OC)OC'],\n",
       " ['add_motif', '*(n1ccnc1)n1ccnc1'],\n",
       " ['add_motif', '*B1OC(=O)CN(C)CC(=O)O1'],\n",
       " ['add_motif', '*=C'],\n",
       " ['add_motif', '*[SH]=O'],\n",
       " ['add_motif', '*C(F)(F)F'],\n",
       " ['add_motif', '*[Sn](CC)(CC)CC'],\n",
       " ['add_motif', '*B1OBOBO1'],\n",
       " ['add_motif', '*c1ccccc1'],\n",
       " ['add_motif', '*B1OCC(C)(C)CO1'],\n",
       " ['add_motif', '*C(C)C'],\n",
       " ['add_motif', '*[S+](C)C'],\n",
       " ['add_motif', '*O[SH]=O'],\n",
       " ['add_motif', '[*-][N+](C)(C)C'],\n",
       " ['add_motif', '*[P+](C)(C)C'],\n",
       " ['add_motif', '*C(=O)c1ccc([N+](=O)[O-])cc1'],\n",
       " ['add_motif', '*c1ccc2c(c1)[C@@H](NC)CC[C@H]2c1ccc(Cl)c(Cl)c1'],\n",
       " ['add_motif', 'I*I'],\n",
       " ['add_motif', '*B1OC=CC(C(=O)[O-])O1'],\n",
       " ['change_atom', [0, 0, 1, 0]],\n",
       " ['add_motif', '*B(OC(C)C)OC(C)C'],\n",
       " ['add_motif', '*B1OC(C)C(C)O1'],\n",
       " ['add_motif', '*OC(=O)C1CC1'],\n",
       " ['add_motif', '*CBr'],\n",
       " ['add_motif', '*C(=O)C1(C)CCCCC1'],\n",
       " ['add_motif', '*OC1NCC(=C)O1'],\n",
       " ['add_motif', '*N1CCCCC1'],\n",
       " ['add_motif', '*OC(=O)C(=NOC)c1csc(NC(c2ccccc2)(c2ccccc2)c2ccccc2)n1'],\n",
       " ['add_motif', '*C=O'],\n",
       " ['add_motif', '*NC'],\n",
       " ['add_motif', '*C(=O)C1CCN(C(=O)CO)CC1'],\n",
       " ['add_motif', '*C(=O)Cn1c(-c2ccc(Cl)c(Cl)c2)nc2cccnc21'],\n",
       " ['add_motif', '*C(=O)C=CC=CC=CC=CC(=O)O'],\n",
       " ['add_motif', '*[Mg]Br'],\n",
       " ['add_motif', '*B1OCCNCCO1'],\n",
       " ['add_motif', '*OC=O'],\n",
       " ['add_motif', '[*+]=N[Si](C)(C)C'],\n",
       " ['add_motif', '*B1OCCO1'],\n",
       " ['change_atom', [-1, 0, 0, 1]]]"
      ]
     },
     "execution_count": 5,
     "metadata": {},
     "output_type": "execute_result"
    }
   ],
   "source": [
    "actions"
   ]
  },
  {
   "cell_type": "code",
   "execution_count": 2,
   "metadata": {},
   "outputs": [
    {
     "name": "stdout",
     "output_type": "stream",
     "text": [
      "step 0\n",
      "torch.Size([12, 39]) torch.Size([12, 39])\n",
      "torch.Size([56, 14]) torch.Size([56, 14])\n",
      "tensor(0)\n",
      "tensor(0)\n",
      "step 1\n",
      "torch.Size([15, 39]) torch.Size([15, 39])\n",
      "torch.Size([71, 14]) torch.Size([71, 14])\n",
      "tensor(6)\n",
      "tensor(8)\n"
     ]
    }
   ],
   "source": [
    "import torch\n",
    "\n",
    "for i in range(2):\n",
    "    bs_atom = torch.load(f\"beam-search_atom_{i}.pt\")\n",
    "    bs_bond = torch.load(f\"beam-search_bond_{i}.pt\")\n",
    "\n",
    "    valid_atom = torch.load(f\"valid_atom_{i}.pt\")\n",
    "    valid_bond = torch.load(f\"valid_bond_{i}.pt\")\n",
    "\n",
    "    print(f\"step {i}\")\n",
    "    print(bs_atom.shape, valid_atom.shape)\n",
    "    print(bs_bond.shape, valid_bond.shape)\n",
    "    print((bs_atom.cpu() != valid_atom.cpu()).sum())\n",
    "    print((bs_bond.cpu() != valid_bond.cpu()).sum())"
   ]
  },
  {
   "cell_type": "code",
   "execution_count": 23,
   "metadata": {},
   "outputs": [
    {
     "data": {
      "text/plain": [
       "tensor([0, 0, 0, 0, 0, 0, 0, 0, 0, 0, 0, 0, 0, 0, 0, 0, 0, 0, 0, 0, 0, 0, 0, 0,\n",
       "        0, 0, 0, 0, 0, 0, 0, 0, 0, 0, 0, 0, 0, 0, 0, 0, 0, 0, 0, 0, 0, 0, 0, 0,\n",
       "        0, 0, 0, 0, 0, 0, 0, 0, 0, 0, 0, 0, 0, 0, 0, 4, 4, 0, 4, 0, 0, 4, 0])"
      ]
     },
     "execution_count": 23,
     "metadata": {},
     "output_type": "execute_result"
    }
   ],
   "source": [
    "id = 60\n",
    "(bs_bond.cpu() != valid_bond.cpu()).sum(1)"
   ]
  },
  {
   "cell_type": "code",
   "execution_count": 16,
   "metadata": {},
   "outputs": [
    {
     "data": {
      "text/plain": [
       "tensor([[0., 1., 0., 0., 0., 0., 0., 1., 0., 0., 0., 1., 0., 0.],\n",
       "        [0., 0., 1., 0., 0., 0., 0., 1., 0., 0., 0., 1., 0., 0.],\n",
       "        [0., 0., 1., 0., 0., 0., 0., 1., 0., 0., 0., 1., 0., 0.],\n",
       "        [0., 0., 1., 0., 0., 0., 0., 1., 0., 0., 0., 1., 0., 0.],\n",
       "        [0., 0., 1., 0., 0., 0., 0., 1., 0., 0., 0., 1., 0., 0.],\n",
       "        [0., 0., 1., 0., 0., 0., 0., 1., 0., 0., 0., 1., 0., 0.],\n",
       "        [0., 0., 1., 0., 0., 0., 0., 1., 0., 0., 0., 1., 0., 0.],\n",
       "        [0., 0., 1., 0., 0., 0., 0., 1., 0., 0., 0., 1., 0., 0.],\n",
       "        [0., 0., 1., 0., 0., 0., 0., 1., 0., 0., 0., 1., 0., 0.],\n",
       "        [0., 0., 1., 0., 0., 0., 0., 1., 0., 0., 0., 1., 0., 0.],\n",
       "        [0., 0., 1., 0., 0., 0., 0., 1., 0., 0., 0., 1., 0., 0.],\n",
       "        [0., 0., 1., 0., 0., 0., 0., 1., 0., 0., 0., 1., 0., 0.],\n",
       "        [0., 0., 1., 0., 0., 0., 0., 1., 0., 0., 0., 1., 0., 0.],\n",
       "        [0., 0., 1., 0., 0., 0., 0., 1., 0., 0., 0., 1., 0., 0.],\n",
       "        [0., 0., 1., 0., 0., 0., 0., 1., 0., 0., 0., 1., 0., 0.],\n",
       "        [0., 0., 1., 0., 0., 0., 0., 1., 0., 0., 0., 1., 0., 0.],\n",
       "        [0., 1., 0., 0., 0., 0., 0., 1., 0., 0., 0., 1., 0., 0.],\n",
       "        [0., 0., 0., 1., 0., 0., 0., 0., 1., 0., 0., 0., 1., 0.],\n",
       "        [0., 0., 0., 1., 0., 0., 0., 0., 1., 0., 0., 0., 1., 0.],\n",
       "        [0., 0., 0., 1., 0., 0., 0., 0., 1., 0., 0., 0., 0., 1.],\n",
       "        [0., 0., 1., 0., 0., 0., 0., 1., 0., 0., 0., 1., 0., 0.],\n",
       "        [0., 0., 0., 1., 0., 0., 0., 0., 1., 0., 0., 0., 1., 0.],\n",
       "        [0., 1., 0., 0., 0., 0., 0., 1., 0., 0., 0., 1., 0., 0.],\n",
       "        [0., 0., 0., 1., 0., 0., 0., 0., 1., 0., 0., 0., 1., 0.],\n",
       "        [0., 0., 1., 0., 0., 0., 0., 1., 0., 0., 0., 1., 0., 0.],\n",
       "        [0., 0., 0., 1., 0., 0., 0., 0., 1., 0., 0., 0., 1., 0.],\n",
       "        [0., 1., 0., 0., 0., 0., 0., 1., 0., 0., 0., 1., 0., 0.],\n",
       "        [0., 0., 0., 1., 0., 0., 0., 0., 1., 0., 0., 0., 1., 0.],\n",
       "        [0., 0., 0., 1., 0., 0., 0., 0., 1., 0., 0., 0., 1., 0.],\n",
       "        [0., 0., 1., 0., 0., 0., 0., 1., 0., 0., 0., 1., 0., 0.],\n",
       "        [0., 0., 0., 1., 0., 0., 0., 0., 1., 0., 0., 0., 1., 0.],\n",
       "        [0., 1., 0., 0., 0., 0., 0., 1., 0., 0., 0., 1., 0., 0.],\n",
       "        [0., 0., 0., 1., 0., 0., 0., 0., 1., 0., 0., 0., 1., 0.],\n",
       "        [0., 0., 0., 1., 0., 0., 0., 0., 1., 0., 0., 0., 1., 0.],\n",
       "        [0., 0., 0., 1., 0., 0., 0., 0., 1., 0., 0., 0., 1., 0.],\n",
       "        [0., 0., 1., 0., 0., 0., 0., 1., 0., 0., 0., 1., 0., 0.],\n",
       "        [0., 0., 0., 1., 0., 0., 0., 0., 1., 0., 0., 0., 1., 0.],\n",
       "        [0., 1., 0., 0., 0., 0., 0., 1., 0., 0., 0., 1., 0., 0.],\n",
       "        [0., 0., 1., 0., 0., 0., 0., 1., 0., 0., 0., 1., 0., 0.],\n",
       "        [0., 0., 0., 1., 0., 0., 0., 0., 1., 0., 0., 0., 1., 0.],\n",
       "        [0., 1., 0., 0., 0., 0., 0., 1., 0., 0., 0., 1., 0., 0.],\n",
       "        [0., 0., 1., 0., 0., 0., 0., 1., 0., 0., 0., 1., 0., 0.],\n",
       "        [0., 0., 0., 1., 0., 0., 0., 0., 1., 0., 0., 0., 1., 0.],\n",
       "        [0., 1., 0., 0., 0., 0., 0., 1., 0., 0., 0., 1., 0., 0.],\n",
       "        [0., 0., 1., 0., 0., 0., 0., 1., 0., 0., 0., 1., 0., 0.],\n",
       "        [0., 0., 0., 1., 0., 0., 0., 0., 1., 0., 0., 0., 1., 0.],\n",
       "        [0., 1., 0., 0., 0., 0., 0., 1., 0., 0., 0., 1., 0., 0.],\n",
       "        [0., 0., 0., 0., 1., 0., 0., 0., 1., 0., 0., 0., 1., 0.],\n",
       "        [0., 0., 0., 1., 0., 0., 0., 0., 1., 0., 0., 0., 1., 0.],\n",
       "        [0., 0., 1., 0., 0., 0., 0., 1., 0., 0., 0., 1., 0., 0.],\n",
       "        [0., 0., 0., 0., 1., 0., 0., 0., 1., 0., 0., 0., 1., 0.],\n",
       "        [0., 1., 0., 0., 0., 0., 0., 1., 0., 0., 0., 1., 0., 0.],\n",
       "        [0., 0., 1., 0., 0., 0., 0., 1., 0., 0., 0., 1., 0., 0.],\n",
       "        [0., 0., 0., 1., 0., 0., 0., 0., 1., 0., 0., 0., 1., 0.],\n",
       "        [0., 0., 0., 1., 0., 0., 0., 0., 1., 0., 0., 0., 1., 0.],\n",
       "        [0., 1., 0., 0., 0., 0., 0., 1., 0., 0., 0., 1., 0., 0.],\n",
       "        [0., 0., 0., 0., 1., 0., 0., 0., 1., 0., 0., 0., 1., 0.],\n",
       "        [0., 0., 1., 0., 0., 0., 0., 1., 0., 0., 0., 1., 0., 0.],\n",
       "        [0., 0., 0., 0., 1., 0., 0., 0., 1., 0., 0., 0., 1., 0.],\n",
       "        [0., 1., 0., 0., 0., 0., 0., 1., 0., 0., 0., 1., 0., 0.],\n",
       "        [0., 0., 1., 0., 0., 0., 0., 1., 0., 0., 0., 1., 0., 0.],\n",
       "        [0., 0., 0., 1., 0., 0., 0., 0., 1., 0., 0., 0., 0., 1.],\n",
       "        [0., 1., 0., 0., 0., 0., 0., 1., 0., 0., 0., 1., 0., 0.],\n",
       "        [0., 0., 0., 1., 0., 0., 0., 0., 1., 0., 0., 0., 1., 0.],\n",
       "        [0., 0., 0., 0., 1., 0., 0., 0., 1., 0., 0., 0., 1., 0.],\n",
       "        [0., 0., 1., 0., 0., 0., 0., 1., 0., 0., 0., 1., 0., 0.],\n",
       "        [0., 0., 0., 1., 0., 0., 0., 0., 1., 0., 0., 0., 1., 0.],\n",
       "        [0., 1., 0., 0., 0., 0., 0., 1., 0., 0., 0., 1., 0., 0.],\n",
       "        [0., 0., 1., 0., 0., 0., 0., 1., 0., 0., 0., 1., 0., 0.],\n",
       "        [0., 0., 0., 0., 1., 0., 0., 0., 1., 0., 0., 0., 1., 0.],\n",
       "        [0., 1., 0., 0., 0., 0., 0., 1., 0., 0., 0., 1., 0., 0.]])"
      ]
     },
     "execution_count": 16,
     "metadata": {},
     "output_type": "execute_result"
    }
   ],
   "source": [
    "valid_bond"
   ]
  },
  {
   "cell_type": "code",
   "execution_count": 8,
   "metadata": {},
   "outputs": [
    {
     "name": "stdout",
     "output_type": "stream",
     "text": [
      "CC(C)(C)OC(=O)OC(=O)OC(C)(C)C.C[C@@H]1C[C@@H](Cc2ccc(-c3ccccc3)cc2)NC1=O\n",
      "CC(C)(C)OC(=O)OC(=O)OC(C)(C)C.C[C@@H]1C[C@@H](Cc2ccc(-c3ccccc3)cc2)NC1=O\n",
      "CC(C)(C)OC(=O)OC(=O)OC(C)(C)C.C[C@H]1C[C@H](Cc2ccc(-c3ccccc3)cc2)NC1=O\n"
     ]
    }
   ],
   "source": [
    "from rdkit import Chem\n",
    "\n",
    "\n",
    "mol = Chem.MolFromSmiles(\"[CH3:1][C:2]([CH3:3])([CH3:4])[O:5][C:6](=[O:7])[O:35][C:33]([O:32][C:29]([CH3:28])([CH3:30])[CH3:31])=[O:34].[CH3:8][C@@H:9]1[CH2:10][C@@H:11]([CH2:12][c:13]2[cH:14][cH:15][c:16](-[c:17]3[cH:18][cH:19][cH:20][cH:21][cH:22]3)[cH:23][cH:24]2)[NH:25][C:26]1=[O:27]\")\n",
    "for atom in mol.GetAtoms():\n",
    "    atom.SetAtomMapNum(0)\n",
    "print(Chem.MolToSmilses(mol))\n",
    "print(Chem.CanonSmiles(Chem.MolToSmiles(mol)))\n",
    "print(Chem.CanonSmiles(\"CC(C)(C)OC(=O)OC(=O)OC(C)(C)C.C[C@H]1C[C@H](Cc2ccc(-c3ccccc3)cc2)NC1=O\"))"
   ]
  }
 ],
 "metadata": {
  "kernelspec": {
   "display_name": "Python 3.7.12 ('equibind')",
   "language": "python",
   "name": "python3"
  },
  "language_info": {
   "codemirror_mode": {
    "name": "ipython",
    "version": 3
   },
   "file_extension": ".py",
   "mimetype": "text/x-python",
   "name": "python",
   "nbconvert_exporter": "python",
   "pygments_lexer": "ipython3",
   "version": "3.7.12 | packaged by conda-forge | (default, Oct 26 2021, 06:08:53) \n[GCC 9.4.0]"
  },
  "orig_nbformat": 4,
  "vscode": {
   "interpreter": {
    "hash": "43ba559bd9b9425188d86553db18524406fb2a85e37c133054cdad2bbfee5c31"
   }
  }
 },
 "nbformat": 4,
 "nbformat_minor": 2
}
